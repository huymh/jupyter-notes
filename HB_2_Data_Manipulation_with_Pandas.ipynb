{
 "cells": [
  {
   "cell_type": "markdown",
   "id": "820c454c-9e00-4e26-9916-7227fc39f896",
   "metadata": {},
   "source": [
    "# Intro"
   ]
  },
  {
   "cell_type": "markdown",
   "id": "76230b88-8f28-4d6b-986b-3d812c2de83c",
   "metadata": {},
   "source": [
    "We are familiar with NumPy and its `ndarray` object, which enables efficient storage and manipulation of dense typed arrays in Python. Now we build on this knowledge by looking in depth at the *data structures* provided by the Pandas library.\n",
    "\n",
    "Pandas is a newer package built on top of NumPy that provides an efficient implementation of a `DataFrame`. `DataFrames` are essentially multidimensional arrays with attatched row and column labels, ofen with heterogeneous types and/or missing data."
   ]
  },
  {
   "cell_type": "markdown",
   "id": "6fc0ca36-26ef-43ba-8b5a-7b40772aa136",
   "metadata": {
    "jp-MarkdownHeadingCollapsed": true
   },
   "source": [
    "# Chapter 13 : Introducing Pandas Objects"
   ]
  },
  {
   "cell_type": "code",
   "execution_count": 2,
   "id": "a7d6fc77-755f-417a-b279-70ea3988762c",
   "metadata": {},
   "outputs": [],
   "source": [
    "# start code with standard NumPy and Pandas imports\n",
    "import numpy as np\n",
    "import pandas as pd"
   ]
  },
  {
   "cell_type": "markdown",
   "id": "cc4f0b9a-79b6-43d3-99cd-84d496d84953",
   "metadata": {
    "editable": true,
    "jp-MarkdownHeadingCollapsed": true,
    "slideshow": {
     "slide_type": ""
    },
    "tags": []
   },
   "source": [
    "## 13.1 The Pandas `Series` Object\n",
    "---"
   ]
  },
  {
   "cell_type": "markdown",
   "id": "2c0438e8-9f37-4428-bd18-997aa3778773",
   "metadata": {},
   "source": [
    "A Pandas `Series` is a 1-d array of indexed data. It can be created from a list or array as follows:"
   ]
  },
  {
   "cell_type": "code",
   "execution_count": 3,
   "id": "9fdd167f-aae5-4c1f-b6bf-f8c2fc6d7164",
   "metadata": {},
   "outputs": [
    {
     "data": {
      "text/plain": [
       "0    0.25\n",
       "1    0.50\n",
       "2    0.75\n",
       "3    1.00\n",
       "dtype: float64"
      ]
     },
     "execution_count": 3,
     "metadata": {},
     "output_type": "execute_result"
    }
   ],
   "source": [
    "data = pd.Series([0.25, 0.5, 0.75, 1.0])\n",
    "data"
   ]
  },
  {
   "cell_type": "markdown",
   "id": "fc7e9f4b-f911-47ef-93fc-78c383a4038e",
   "metadata": {},
   "source": [
    "The `Series` combines a sequence of values with an explicit sequence of indices which we can access with the **`values`** and **`index`** attributes. The `values` are simply a familiar NumPy array."
   ]
  },
  {
   "cell_type": "code",
   "execution_count": 4,
   "id": "1dba73f1-d488-4ee4-8bed-13e70af3e2fd",
   "metadata": {},
   "outputs": [
    {
     "data": {
      "text/plain": [
       "array([0.25, 0.5 , 0.75, 1.  ])"
      ]
     },
     "execution_count": 4,
     "metadata": {},
     "output_type": "execute_result"
    }
   ],
   "source": [
    "data.values"
   ]
  },
  {
   "cell_type": "markdown",
   "id": "d053f4eb-0d95-4711-bb05-d442f650fa37",
   "metadata": {},
   "source": [
    "The `index` is an array-like object of type `pd.Index`."
   ]
  },
  {
   "cell_type": "code",
   "execution_count": 5,
   "id": "bcba2303-6e6f-46f3-9fc8-baeb21473a69",
   "metadata": {},
   "outputs": [
    {
     "data": {
      "text/plain": [
       "RangeIndex(start=0, stop=4, step=1)"
      ]
     },
     "execution_count": 5,
     "metadata": {},
     "output_type": "execute_result"
    }
   ],
   "source": [
    "data.index"
   ]
  },
  {
   "cell_type": "markdown",
   "id": "7b8b04c5-1a8b-4862-a207-6cf273125e8d",
   "metadata": {},
   "source": [
    "Data can be accessed by the associated index via the familiar Python square-bracket notation."
   ]
  },
  {
   "cell_type": "code",
   "execution_count": 7,
   "id": "f52e6f03-14ca-4385-ac91-f463d6c643df",
   "metadata": {},
   "outputs": [
    {
     "name": "stdout",
     "output_type": "stream",
     "text": [
      "0.5 \n",
      "\n",
      "1    0.50\n",
      "2    0.75\n",
      "dtype: float64\n"
     ]
    }
   ],
   "source": [
    "print(data[1], '\\n')\n",
    "print(data[1:3])"
   ]
  },
  {
   "cell_type": "markdown",
   "id": "bd61b0c4-4507-4e4f-8c7f-5618e7aa842f",
   "metadata": {
    "jp-MarkdownHeadingCollapsed": true
   },
   "source": [
    "### Series as Generalized NumPy Array"
   ]
  },
  {
   "cell_type": "markdown",
   "id": "a92950ae-6d17-47c9-ab57-9aebb9bc8da1",
   "metadata": {},
   "source": [
    "The difference between a `Series` and a NumPy array is that NumPy arrays have an *implicity defined* integer index to access values while the Pandas `Series` has an *explicitly defined* index associated with values.\n",
    "\n",
    "This explicit index definition gives the `Series` object capabilities. For example, the index need not be an integer, but can consist of values of any desired type."
   ]
  },
  {
   "cell_type": "code",
   "execution_count": 8,
   "id": "d0855047-6395-4306-8167-30c1691aed2a",
   "metadata": {},
   "outputs": [
    {
     "data": {
      "text/plain": [
       "a    0.25\n",
       "b    0.50\n",
       "c    0.75\n",
       "d    1.00\n",
       "dtype: float64"
      ]
     },
     "execution_count": 8,
     "metadata": {},
     "output_type": "execute_result"
    }
   ],
   "source": [
    "data = pd.Series([0.25, 0.5, 0.75, 1.0], index = ['a', 'b', 'c', 'd'])\n",
    "data"
   ]
  },
  {
   "cell_type": "code",
   "execution_count": 9,
   "id": "1461e3b8-37d7-405b-8eca-19944a3ec6a0",
   "metadata": {},
   "outputs": [
    {
     "data": {
      "text/plain": [
       "0.5"
      ]
     },
     "execution_count": 9,
     "metadata": {},
     "output_type": "execute_result"
    }
   ],
   "source": [
    "# item access works as expected\n",
    "data['b']"
   ]
  },
  {
   "cell_type": "code",
   "execution_count": 11,
   "id": "5ba17d72-4b07-4b34-809e-a0fa4a7a5430",
   "metadata": {},
   "outputs": [
    {
     "data": {
      "text/plain": [
       "2    0.25\n",
       "5    0.50\n",
       "3    0.75\n",
       "7    1.00\n",
       "dtype: float64"
      ]
     },
     "execution_count": 11,
     "metadata": {},
     "output_type": "execute_result"
    }
   ],
   "source": [
    "# noncontiguous or nonsequential indices\n",
    "data = pd.Series([0.25, 0.5, 0.75, 1.0], index = [2, 5, 3, 7])\n",
    "data"
   ]
  },
  {
   "cell_type": "code",
   "execution_count": 12,
   "id": "b774cef8-ceda-44f1-903c-67fc85acf176",
   "metadata": {},
   "outputs": [
    {
     "data": {
      "text/plain": [
       "0.5"
      ]
     },
     "execution_count": 12,
     "metadata": {},
     "output_type": "execute_result"
    }
   ],
   "source": [
    "data[5]"
   ]
  },
  {
   "cell_type": "markdown",
   "id": "2593346d-b677-48c7-84a2-62b3b6140272",
   "metadata": {
    "jp-MarkdownHeadingCollapsed": true
   },
   "source": [
    "### Series as Specialized Dictionary"
   ]
  },
  {
   "cell_type": "markdown",
   "id": "428290d9-0c4e-4fc5-a2ff-f0e8eaea3999",
   "metadata": {},
   "source": [
    "You can think of a Pandas `Series` as a specialization of a Python dictionary. A dictionary is a structure that maps arbitrary kesy to a set of arbitrary values, and a `Series` is a structure that maps typed keys to a set of typed values.\n",
    "\n",
    "The `Series`-as-dictionary analogy can be made clear by constructing a `Series` object directly from a Python dictionary."
   ]
  },
  {
   "cell_type": "code",
   "execution_count": 13,
   "id": "60609a0b-48b4-4d5d-a457-20951e43cef6",
   "metadata": {},
   "outputs": [
    {
     "data": {
      "text/plain": [
       "California      39538223\n",
       "Texas           29145505\n",
       "Florida         21538187\n",
       "New York        20201249\n",
       "Pennsylvania    13002700\n",
       "dtype: int64"
      ]
     },
     "execution_count": 13,
     "metadata": {},
     "output_type": "execute_result"
    }
   ],
   "source": [
    "population_dict = {'California': 39538223, 'Texas': 29145505,\n",
    "                   'Florida': 21538187, 'New York': 20201249,\n",
    "                   'Pennsylvania': 13002700}\n",
    "population = pd.Series(population_dict)\n",
    "population"
   ]
  },
  {
   "cell_type": "code",
   "execution_count": 14,
   "id": "b6856445-d355-487f-96a6-f5971f4d987a",
   "metadata": {},
   "outputs": [
    {
     "data": {
      "text/plain": [
       "39538223"
      ]
     },
     "execution_count": 14,
     "metadata": {},
     "output_type": "execute_result"
    }
   ],
   "source": [
    "population['California']"
   ]
  },
  {
   "cell_type": "code",
   "execution_count": 15,
   "id": "22cab5d6-1373-438a-8e33-e84489495914",
   "metadata": {},
   "outputs": [
    {
     "data": {
      "text/plain": [
       "California    39538223\n",
       "Texas         29145505\n",
       "Florida       21538187\n",
       "dtype: int64"
      ]
     },
     "execution_count": 15,
     "metadata": {},
     "output_type": "execute_result"
    }
   ],
   "source": [
    "# Unlike dictionary, Series support array-style operations\n",
    "population['California':'Florida']"
   ]
  },
  {
   "cell_type": "markdown",
   "id": "d4ce3063-ab8b-408b-a6e5-88a5a674ae60",
   "metadata": {
    "jp-MarkdownHeadingCollapsed": true
   },
   "source": [
    "### Constructing Series Objects"
   ]
  },
  {
   "cell_type": "markdown",
   "id": "683cb670-1a26-4f78-9187-f2c9ff03b3fe",
   "metadata": {},
   "source": [
    "We've already seen a few ways of constructing a pandas `Series` from scratch. Al of them are some version of the following:\n",
    "```\n",
    "pd.Series(data, index = index)\n",
    "```\n",
    "where `index` is an optional argument, and `data` can be one of many entities.\n",
    "\n",
    "For example, `data` can be a list or NumPy array, in which case `index defaults to an integer sequence."
   ]
  },
  {
   "cell_type": "code",
   "execution_count": 16,
   "id": "5cb1f5f5-535d-4d86-b95d-adf64e9b1c9e",
   "metadata": {},
   "outputs": [
    {
     "data": {
      "text/plain": [
       "0    2\n",
       "1    4\n",
       "2    6\n",
       "dtype: int64"
      ]
     },
     "execution_count": 16,
     "metadata": {},
     "output_type": "execute_result"
    }
   ],
   "source": [
    "pd.Series([2,4,6])"
   ]
  },
  {
   "cell_type": "code",
   "execution_count": 17,
   "id": "41d9da86-3c37-4401-9343-8da8bbf5cf9b",
   "metadata": {},
   "outputs": [
    {
     "data": {
      "text/plain": [
       "100    5\n",
       "200    5\n",
       "300    5\n",
       "dtype: int64"
      ]
     },
     "execution_count": 17,
     "metadata": {},
     "output_type": "execute_result"
    }
   ],
   "source": [
    "# data can be a scalar, which is repeated to fill a specified index\n",
    "pd.Series(5, index = [100, 200, 300])"
   ]
  },
  {
   "cell_type": "code",
   "execution_count": 18,
   "id": "a3201864-6053-4388-abc7-e6ecab734144",
   "metadata": {},
   "outputs": [
    {
     "data": {
      "text/plain": [
       "2    a\n",
       "1    b\n",
       "3    c\n",
       "dtype: object"
      ]
     },
     "execution_count": 18,
     "metadata": {},
     "output_type": "execute_result"
    }
   ],
   "source": [
    "# can be a dictionary, index defaults to dictionary keys\n",
    "pd.Series({2:'a', 1:'b', 3:'c'})"
   ]
  },
  {
   "cell_type": "code",
   "execution_count": 19,
   "id": "01c6ff97-5585-4274-8819-ea59cc50bfc9",
   "metadata": {},
   "outputs": [
    {
     "data": {
      "text/plain": [
       "1    b\n",
       "2    a\n",
       "dtype: object"
      ]
     },
     "execution_count": 19,
     "metadata": {},
     "output_type": "execute_result"
    }
   ],
   "source": [
    "# index can be explicity set to control order or subset of keys used\n",
    "pd.Series({2:'a', 1:'b', 3:'c'}, index = [1, 2])"
   ]
  },
  {
   "cell_type": "markdown",
   "id": "154e1d9a-665e-458a-8140-1b032f3ded77",
   "metadata": {
    "jp-MarkdownHeadingCollapsed": true
   },
   "source": [
    "## 13.2 The Pandas `DataFrame` Object\n",
    "---"
   ]
  },
  {
   "cell_type": "markdown",
   "id": "51fd84d5-1a23-4336-85a8-0e79d9610c78",
   "metadata": {},
   "source": [
    "The `DataFrame` can be thought of either as a generalization of a NumPy array, or as a specialization of a Python dicionary."
   ]
  },
  {
   "cell_type": "markdown",
   "id": "b546f377-b2ca-49c0-bac5-bc4abd6f32b5",
   "metadata": {},
   "source": [
    "### DataFrame as Generalized NumPy Array"
   ]
  },
  {
   "cell_type": "markdown",
   "id": "dd70cd97-6964-482f-b2f2-11145e68ffda",
   "metadata": {},
   "source": [
    "If a `Series` is an analog of a 1-d array with explicit indices, a `DataFrame` is an analog of a 2-d array with explicit row and column indices. Think of a `DataFrame` as a sequence of aligned `Series` objects. By \"aligned\" we mean they share the same index.\n",
    "\n",
    "To demonstrate, construct a new `Series` listing the area of five states in the previous section (in square km)."
   ]
  },
  {
   "cell_type": "code",
   "execution_count": 22,
   "id": "57a2ea5f-cd1a-4c6e-ae6a-48e990cebcde",
   "metadata": {},
   "outputs": [
    {
     "data": {
      "text/plain": [
       "California      423967\n",
       "Texas           695662\n",
       "Florida         170312\n",
       "New York        141297\n",
       "Pennsylvania    119280\n",
       "dtype: int64"
      ]
     },
     "execution_count": 22,
     "metadata": {},
     "output_type": "execute_result"
    }
   ],
   "source": [
    "area_dict = {'California': 423967, 'Texas': 695662, 'Florida': 170312,\n",
    "             'New York': 141297, 'Pennsylvania': 119280}\n",
    "area = pd.Series(area_dict)\n",
    "area"
   ]
  },
  {
   "cell_type": "markdown",
   "id": "d5a1aeea-d036-4a7d-a164-c50a2bd00341",
   "metadata": {},
   "source": [
    "Now that we have this along with the `population` `Series` from before, we can use a dictionary to construct a single 2-d object containing this information."
   ]
  },
  {
   "cell_type": "code",
   "execution_count": 23,
   "id": "e8510db8-8522-4e61-b311-f5944debf993",
   "metadata": {},
   "outputs": [
    {
     "data": {
      "text/html": [
       "<div>\n",
       "<style scoped>\n",
       "    .dataframe tbody tr th:only-of-type {\n",
       "        vertical-align: middle;\n",
       "    }\n",
       "\n",
       "    .dataframe tbody tr th {\n",
       "        vertical-align: top;\n",
       "    }\n",
       "\n",
       "    .dataframe thead th {\n",
       "        text-align: right;\n",
       "    }\n",
       "</style>\n",
       "<table border=\"1\" class=\"dataframe\">\n",
       "  <thead>\n",
       "    <tr style=\"text-align: right;\">\n",
       "      <th></th>\n",
       "      <th>population</th>\n",
       "      <th>area</th>\n",
       "    </tr>\n",
       "  </thead>\n",
       "  <tbody>\n",
       "    <tr>\n",
       "      <th>California</th>\n",
       "      <td>39538223</td>\n",
       "      <td>423967</td>\n",
       "    </tr>\n",
       "    <tr>\n",
       "      <th>Texas</th>\n",
       "      <td>29145505</td>\n",
       "      <td>695662</td>\n",
       "    </tr>\n",
       "    <tr>\n",
       "      <th>Florida</th>\n",
       "      <td>21538187</td>\n",
       "      <td>170312</td>\n",
       "    </tr>\n",
       "    <tr>\n",
       "      <th>New York</th>\n",
       "      <td>20201249</td>\n",
       "      <td>141297</td>\n",
       "    </tr>\n",
       "    <tr>\n",
       "      <th>Pennsylvania</th>\n",
       "      <td>13002700</td>\n",
       "      <td>119280</td>\n",
       "    </tr>\n",
       "  </tbody>\n",
       "</table>\n",
       "</div>"
      ],
      "text/plain": [
       "              population    area\n",
       "California      39538223  423967\n",
       "Texas           29145505  695662\n",
       "Florida         21538187  170312\n",
       "New York        20201249  141297\n",
       "Pennsylvania    13002700  119280"
      ]
     },
     "execution_count": 23,
     "metadata": {},
     "output_type": "execute_result"
    }
   ],
   "source": [
    "states = pd.DataFrame({'population':population, 'area':area})\n",
    "states"
   ]
  },
  {
   "cell_type": "code",
   "execution_count": 24,
   "id": "b4a02d56-ee52-449a-9347-2553ea5cfe72",
   "metadata": {},
   "outputs": [
    {
     "data": {
      "text/plain": [
       "Index(['California', 'Texas', 'Florida', 'New York', 'Pennsylvania'], dtype='object')"
      ]
     },
     "execution_count": 24,
     "metadata": {},
     "output_type": "execute_result"
    }
   ],
   "source": [
    "# just like Series, DataFrame has index attribute\n",
    "states.index"
   ]
  },
  {
   "cell_type": "markdown",
   "id": "8cecf4cb-2feb-49a4-a87d-02e9a6fd01ea",
   "metadata": {
    "jp-MarkdownHeadingCollapsed": true
   },
   "source": [
    "### DataFrame as Specialized Dictionary"
   ]
  },
  {
   "cell_type": "markdown",
   "id": "42a11020-1d2e-40bf-b4b9-80f0e3d50280",
   "metadata": {},
   "source": [
    "We can also think of a `DataFrame` as a specialization of a dictionary. Where a dictionary maps a key to a value, a `DataFrame` maps a column name to a `Series` of column data. For example, asking for the `area` attribute returns the `Series` object containing the areas."
   ]
  },
  {
   "cell_type": "code",
   "execution_count": 27,
   "id": "ede839a8-5907-4ec7-8147-8421503edc7c",
   "metadata": {},
   "outputs": [
    {
     "data": {
      "text/plain": [
       "California      423967\n",
       "Texas           695662\n",
       "Florida         170312\n",
       "New York        141297\n",
       "Pennsylvania    119280\n",
       "Name: area, dtype: int64"
      ]
     },
     "execution_count": 27,
     "metadata": {},
     "output_type": "execute_result"
    }
   ],
   "source": [
    "states['area']"
   ]
  },
  {
   "cell_type": "markdown",
   "id": "b9180e75-4e54-484b-b926-fd66381f607c",
   "metadata": {
    "jp-MarkdownHeadingCollapsed": true
   },
   "source": [
    "### Constructing DataFrame Objects"
   ]
  },
  {
   "cell_type": "markdown",
   "id": "d8f8d48d-39d1-4cfe-b724-16e6314e0055",
   "metadata": {
    "jp-MarkdownHeadingCollapsed": true
   },
   "source": [
    "#### From a single Series object"
   ]
  },
  {
   "cell_type": "markdown",
   "id": "7cae488d-396d-417b-b9cf-28b022019421",
   "metadata": {},
   "source": [
    "A `DataFrame` is a collection of `Series` objects, and a single-column `DataFrame` can be constructed from a single `Series`."
   ]
  },
  {
   "cell_type": "code",
   "execution_count": 28,
   "id": "3cbfaea2-c54e-4707-b5ee-e293886b4033",
   "metadata": {},
   "outputs": [
    {
     "data": {
      "text/html": [
       "<div>\n",
       "<style scoped>\n",
       "    .dataframe tbody tr th:only-of-type {\n",
       "        vertical-align: middle;\n",
       "    }\n",
       "\n",
       "    .dataframe tbody tr th {\n",
       "        vertical-align: top;\n",
       "    }\n",
       "\n",
       "    .dataframe thead th {\n",
       "        text-align: right;\n",
       "    }\n",
       "</style>\n",
       "<table border=\"1\" class=\"dataframe\">\n",
       "  <thead>\n",
       "    <tr style=\"text-align: right;\">\n",
       "      <th></th>\n",
       "      <th>population</th>\n",
       "    </tr>\n",
       "  </thead>\n",
       "  <tbody>\n",
       "    <tr>\n",
       "      <th>California</th>\n",
       "      <td>39538223</td>\n",
       "    </tr>\n",
       "    <tr>\n",
       "      <th>Texas</th>\n",
       "      <td>29145505</td>\n",
       "    </tr>\n",
       "    <tr>\n",
       "      <th>Florida</th>\n",
       "      <td>21538187</td>\n",
       "    </tr>\n",
       "    <tr>\n",
       "      <th>New York</th>\n",
       "      <td>20201249</td>\n",
       "    </tr>\n",
       "    <tr>\n",
       "      <th>Pennsylvania</th>\n",
       "      <td>13002700</td>\n",
       "    </tr>\n",
       "  </tbody>\n",
       "</table>\n",
       "</div>"
      ],
      "text/plain": [
       "              population\n",
       "California      39538223\n",
       "Texas           29145505\n",
       "Florida         21538187\n",
       "New York        20201249\n",
       "Pennsylvania    13002700"
      ]
     },
     "execution_count": 28,
     "metadata": {},
     "output_type": "execute_result"
    }
   ],
   "source": [
    "pd.DataFrame(population, columns = ['population'])"
   ]
  },
  {
   "cell_type": "markdown",
   "id": "dfc62e1f-b5a7-429f-b1d1-adc5e65abfdf",
   "metadata": {
    "jp-MarkdownHeadingCollapsed": true
   },
   "source": [
    "#### From a list of dicts"
   ]
  },
  {
   "cell_type": "markdown",
   "id": "c6a42761-5d92-498c-b901-94acf7dd5aa5",
   "metadata": {},
   "source": [
    "Any list of dictionaries can be made into a DataFrame. We'll use a simple list comprehension to create some data."
   ]
  },
  {
   "cell_type": "code",
   "execution_count": 30,
   "id": "e5b8f557-13a8-4d7f-bc91-9d8ac0c21ea9",
   "metadata": {},
   "outputs": [
    {
     "data": {
      "text/html": [
       "<div>\n",
       "<style scoped>\n",
       "    .dataframe tbody tr th:only-of-type {\n",
       "        vertical-align: middle;\n",
       "    }\n",
       "\n",
       "    .dataframe tbody tr th {\n",
       "        vertical-align: top;\n",
       "    }\n",
       "\n",
       "    .dataframe thead th {\n",
       "        text-align: right;\n",
       "    }\n",
       "</style>\n",
       "<table border=\"1\" class=\"dataframe\">\n",
       "  <thead>\n",
       "    <tr style=\"text-align: right;\">\n",
       "      <th></th>\n",
       "      <th>a</th>\n",
       "      <th>b</th>\n",
       "    </tr>\n",
       "  </thead>\n",
       "  <tbody>\n",
       "    <tr>\n",
       "      <th>0</th>\n",
       "      <td>0</td>\n",
       "      <td>0</td>\n",
       "    </tr>\n",
       "    <tr>\n",
       "      <th>1</th>\n",
       "      <td>1</td>\n",
       "      <td>2</td>\n",
       "    </tr>\n",
       "    <tr>\n",
       "      <th>2</th>\n",
       "      <td>2</td>\n",
       "      <td>4</td>\n",
       "    </tr>\n",
       "  </tbody>\n",
       "</table>\n",
       "</div>"
      ],
      "text/plain": [
       "   a  b\n",
       "0  0  0\n",
       "1  1  2\n",
       "2  2  4"
      ]
     },
     "execution_count": 30,
     "metadata": {},
     "output_type": "execute_result"
    }
   ],
   "source": [
    "data = [{'a': i, 'b': 2 * i} for i in range(3)]\n",
    "pd.DataFrame(data)"
   ]
  },
  {
   "cell_type": "markdown",
   "id": "bc138878-b604-44b9-b883-3728e63324dc",
   "metadata": {},
   "source": [
    "Even if some keys in the dictionary are missing, Pandas will fill them in with `NaN` values."
   ]
  },
  {
   "cell_type": "code",
   "execution_count": 31,
   "id": "1d518ae4-6c2c-44db-85ed-fbef63f0cace",
   "metadata": {},
   "outputs": [
    {
     "data": {
      "text/html": [
       "<div>\n",
       "<style scoped>\n",
       "    .dataframe tbody tr th:only-of-type {\n",
       "        vertical-align: middle;\n",
       "    }\n",
       "\n",
       "    .dataframe tbody tr th {\n",
       "        vertical-align: top;\n",
       "    }\n",
       "\n",
       "    .dataframe thead th {\n",
       "        text-align: right;\n",
       "    }\n",
       "</style>\n",
       "<table border=\"1\" class=\"dataframe\">\n",
       "  <thead>\n",
       "    <tr style=\"text-align: right;\">\n",
       "      <th></th>\n",
       "      <th>a</th>\n",
       "      <th>b</th>\n",
       "      <th>c</th>\n",
       "    </tr>\n",
       "  </thead>\n",
       "  <tbody>\n",
       "    <tr>\n",
       "      <th>0</th>\n",
       "      <td>1.0</td>\n",
       "      <td>2</td>\n",
       "      <td>NaN</td>\n",
       "    </tr>\n",
       "    <tr>\n",
       "      <th>1</th>\n",
       "      <td>NaN</td>\n",
       "      <td>3</td>\n",
       "      <td>4.0</td>\n",
       "    </tr>\n",
       "  </tbody>\n",
       "</table>\n",
       "</div>"
      ],
      "text/plain": [
       "     a  b    c\n",
       "0  1.0  2  NaN\n",
       "1  NaN  3  4.0"
      ]
     },
     "execution_count": 31,
     "metadata": {},
     "output_type": "execute_result"
    }
   ],
   "source": [
    "pd.DataFrame([{'a': 1, 'b': 2}, {'b':3, 'c':4}])"
   ]
  },
  {
   "cell_type": "markdown",
   "id": "f27457e3-216e-48ce-a643-3fa02dff912b",
   "metadata": {
    "jp-MarkdownHeadingCollapsed": true
   },
   "source": [
    "#### From a dictionary of Series objects"
   ]
  },
  {
   "cell_type": "markdown",
   "id": "35b0733f-914e-460d-b051-ed9b242c1847",
   "metadata": {},
   "source": [
    "A `DataFrame` can be constructed from a dictionary of `Series` objects as well."
   ]
  },
  {
   "cell_type": "code",
   "execution_count": 32,
   "id": "f0fe3126-771e-4468-b6e6-c9cdf7670995",
   "metadata": {},
   "outputs": [
    {
     "data": {
      "text/html": [
       "<div>\n",
       "<style scoped>\n",
       "    .dataframe tbody tr th:only-of-type {\n",
       "        vertical-align: middle;\n",
       "    }\n",
       "\n",
       "    .dataframe tbody tr th {\n",
       "        vertical-align: top;\n",
       "    }\n",
       "\n",
       "    .dataframe thead th {\n",
       "        text-align: right;\n",
       "    }\n",
       "</style>\n",
       "<table border=\"1\" class=\"dataframe\">\n",
       "  <thead>\n",
       "    <tr style=\"text-align: right;\">\n",
       "      <th></th>\n",
       "      <th>population</th>\n",
       "      <th>area</th>\n",
       "    </tr>\n",
       "  </thead>\n",
       "  <tbody>\n",
       "    <tr>\n",
       "      <th>California</th>\n",
       "      <td>39538223</td>\n",
       "      <td>423967</td>\n",
       "    </tr>\n",
       "    <tr>\n",
       "      <th>Texas</th>\n",
       "      <td>29145505</td>\n",
       "      <td>695662</td>\n",
       "    </tr>\n",
       "    <tr>\n",
       "      <th>Florida</th>\n",
       "      <td>21538187</td>\n",
       "      <td>170312</td>\n",
       "    </tr>\n",
       "    <tr>\n",
       "      <th>New York</th>\n",
       "      <td>20201249</td>\n",
       "      <td>141297</td>\n",
       "    </tr>\n",
       "    <tr>\n",
       "      <th>Pennsylvania</th>\n",
       "      <td>13002700</td>\n",
       "      <td>119280</td>\n",
       "    </tr>\n",
       "  </tbody>\n",
       "</table>\n",
       "</div>"
      ],
      "text/plain": [
       "              population    area\n",
       "California      39538223  423967\n",
       "Texas           29145505  695662\n",
       "Florida         21538187  170312\n",
       "New York        20201249  141297\n",
       "Pennsylvania    13002700  119280"
      ]
     },
     "execution_count": 32,
     "metadata": {},
     "output_type": "execute_result"
    }
   ],
   "source": [
    "pd.DataFrame({'population': population, 'area': area})"
   ]
  },
  {
   "cell_type": "markdown",
   "id": "2662c02b-a493-4909-9397-cc63de5f9ce6",
   "metadata": {
    "jp-MarkdownHeadingCollapsed": true
   },
   "source": [
    "#### From a 2-d NumPy array"
   ]
  },
  {
   "cell_type": "markdown",
   "id": "687dc672-b906-4e20-9d2b-106da572a60c",
   "metadata": {},
   "source": [
    "Given a 2-d array of data, we can create a `DataFrame` with any specified column and index names. If ommited, an integer index will be used for each."
   ]
  },
  {
   "cell_type": "code",
   "execution_count": 33,
   "id": "9e3ff736-b3c3-4090-b01e-0e0755a79bf6",
   "metadata": {},
   "outputs": [
    {
     "data": {
      "text/html": [
       "<div>\n",
       "<style scoped>\n",
       "    .dataframe tbody tr th:only-of-type {\n",
       "        vertical-align: middle;\n",
       "    }\n",
       "\n",
       "    .dataframe tbody tr th {\n",
       "        vertical-align: top;\n",
       "    }\n",
       "\n",
       "    .dataframe thead th {\n",
       "        text-align: right;\n",
       "    }\n",
       "</style>\n",
       "<table border=\"1\" class=\"dataframe\">\n",
       "  <thead>\n",
       "    <tr style=\"text-align: right;\">\n",
       "      <th></th>\n",
       "      <th>foo</th>\n",
       "      <th>bar</th>\n",
       "    </tr>\n",
       "  </thead>\n",
       "  <tbody>\n",
       "    <tr>\n",
       "      <th>a</th>\n",
       "      <td>0.961252</td>\n",
       "      <td>0.945854</td>\n",
       "    </tr>\n",
       "    <tr>\n",
       "      <th>b</th>\n",
       "      <td>0.357918</td>\n",
       "      <td>0.973797</td>\n",
       "    </tr>\n",
       "    <tr>\n",
       "      <th>c</th>\n",
       "      <td>0.947724</td>\n",
       "      <td>0.232175</td>\n",
       "    </tr>\n",
       "  </tbody>\n",
       "</table>\n",
       "</div>"
      ],
      "text/plain": [
       "        foo       bar\n",
       "a  0.961252  0.945854\n",
       "b  0.357918  0.973797\n",
       "c  0.947724  0.232175"
      ]
     },
     "execution_count": 33,
     "metadata": {},
     "output_type": "execute_result"
    }
   ],
   "source": [
    "pd.DataFrame(np.random.rand(3,2),\n",
    "             columns = ['foo', 'bar'],\n",
    "             index = ['a', 'b', 'c'])"
   ]
  },
  {
   "cell_type": "markdown",
   "id": "4f7c6e40-e478-443c-b68a-eeedee3e0f5a",
   "metadata": {
    "jp-MarkdownHeadingCollapsed": true
   },
   "source": [
    "#### From a NumPy structured Array"
   ]
  },
  {
   "cell_type": "markdown",
   "id": "f685c25f-1e95-489d-8c00-b7b041804376",
   "metadata": {},
   "source": [
    "Structured arrays were covered in Chapter 12. A Pandas `DataFrame` operates much like a structured array and can be created directly from one."
   ]
  },
  {
   "cell_type": "code",
   "execution_count": 34,
   "id": "7939a507-9b9b-4494-89cc-bf106a36e639",
   "metadata": {},
   "outputs": [
    {
     "data": {
      "text/plain": [
       "array([(0, 0.), (0, 0.), (0, 0.)], dtype=[('A', '<i8'), ('B', '<f8')])"
      ]
     },
     "execution_count": 34,
     "metadata": {},
     "output_type": "execute_result"
    }
   ],
   "source": [
    "A = np.zeros(3, dtype = [('A', 'i8'), ('B', 'f8')])\n",
    "A"
   ]
  },
  {
   "cell_type": "code",
   "execution_count": 35,
   "id": "aef36353-911b-495a-9aea-dcff67f4d634",
   "metadata": {},
   "outputs": [
    {
     "data": {
      "text/html": [
       "<div>\n",
       "<style scoped>\n",
       "    .dataframe tbody tr th:only-of-type {\n",
       "        vertical-align: middle;\n",
       "    }\n",
       "\n",
       "    .dataframe tbody tr th {\n",
       "        vertical-align: top;\n",
       "    }\n",
       "\n",
       "    .dataframe thead th {\n",
       "        text-align: right;\n",
       "    }\n",
       "</style>\n",
       "<table border=\"1\" class=\"dataframe\">\n",
       "  <thead>\n",
       "    <tr style=\"text-align: right;\">\n",
       "      <th></th>\n",
       "      <th>A</th>\n",
       "      <th>B</th>\n",
       "    </tr>\n",
       "  </thead>\n",
       "  <tbody>\n",
       "    <tr>\n",
       "      <th>0</th>\n",
       "      <td>0</td>\n",
       "      <td>0.0</td>\n",
       "    </tr>\n",
       "    <tr>\n",
       "      <th>1</th>\n",
       "      <td>0</td>\n",
       "      <td>0.0</td>\n",
       "    </tr>\n",
       "    <tr>\n",
       "      <th>2</th>\n",
       "      <td>0</td>\n",
       "      <td>0.0</td>\n",
       "    </tr>\n",
       "  </tbody>\n",
       "</table>\n",
       "</div>"
      ],
      "text/plain": [
       "   A    B\n",
       "0  0  0.0\n",
       "1  0  0.0\n",
       "2  0  0.0"
      ]
     },
     "execution_count": 35,
     "metadata": {},
     "output_type": "execute_result"
    }
   ],
   "source": [
    "pd.DataFrame(A)"
   ]
  },
  {
   "cell_type": "markdown",
   "id": "3aa47494-9c09-47de-bbc3-b9f7338affb2",
   "metadata": {},
   "source": [
    "## 13.3 The Pandas `Index` Object\n",
    "---"
   ]
  },
  {
   "cell_type": "markdown",
   "id": "0da050d0-6ddf-47ac-a7bf-865b4867b7ce",
   "metadata": {},
   "source": [
    "The `Index` object can be thought of either as an *immutable array* or as an *ordered set*. Let's construct an `Index from a list of integers."
   ]
  },
  {
   "cell_type": "code",
   "execution_count": 36,
   "id": "97c5814b-dd68-4edd-ab2c-3377a336aff5",
   "metadata": {},
   "outputs": [
    {
     "data": {
      "text/plain": [
       "Index([2, 3, 5, 7, 11], dtype='int64')"
      ]
     },
     "execution_count": 36,
     "metadata": {},
     "output_type": "execute_result"
    }
   ],
   "source": [
    "ind = pd.Index([2, 3, 5, 7, 11])\n",
    "ind"
   ]
  },
  {
   "cell_type": "markdown",
   "id": "432c77e6-324b-4c74-ba4d-936cf1607c3c",
   "metadata": {
    "jp-MarkdownHeadingCollapsed": true
   },
   "source": [
    "### Index as Immutable Array "
   ]
  },
  {
   "cell_type": "markdown",
   "id": "e02c3376-79db-4c9a-a393-ae13c6540c43",
   "metadata": {},
   "source": [
    "The `Index` in many ways operates like an array. We can use standard Python indexing notation to retrieve values or slices."
   ]
  },
  {
   "cell_type": "code",
   "execution_count": 37,
   "id": "a33d73d8-2578-4323-abc1-b388f487530c",
   "metadata": {},
   "outputs": [
    {
     "data": {
      "text/plain": [
       "3"
      ]
     },
     "execution_count": 37,
     "metadata": {},
     "output_type": "execute_result"
    }
   ],
   "source": [
    "ind[1]"
   ]
  },
  {
   "cell_type": "code",
   "execution_count": 38,
   "id": "aa0560dd-6bd3-478b-802a-dbd8fe004311",
   "metadata": {},
   "outputs": [
    {
     "data": {
      "text/plain": [
       "Index([2, 5, 11], dtype='int64')"
      ]
     },
     "execution_count": 38,
     "metadata": {},
     "output_type": "execute_result"
    }
   ],
   "source": [
    "ind[::2]"
   ]
  },
  {
   "cell_type": "code",
   "execution_count": 40,
   "id": "6a8ff406-c234-4c54-a2ff-cc7abb17b7af",
   "metadata": {},
   "outputs": [
    {
     "name": "stdout",
     "output_type": "stream",
     "text": [
      "5 (5,) 1 int64\n"
     ]
    }
   ],
   "source": [
    "# also has many of the attributes familiar from Python arrays\n",
    "print(ind.size, ind.shape, ind.ndim, ind.dtype)"
   ]
  },
  {
   "cell_type": "markdown",
   "id": "ff66d567-80b6-44b0-96c0-d3fa4e144312",
   "metadata": {},
   "source": [
    "One difference is that indices are immutable - that is they cannot be modified via normal means."
   ]
  },
  {
   "cell_type": "code",
   "execution_count": 41,
   "id": "362ebb78-6f7e-4e1b-8188-3f7632759d66",
   "metadata": {},
   "outputs": [
    {
     "ename": "TypeError",
     "evalue": "Index does not support mutable operations",
     "output_type": "error",
     "traceback": [
      "\u001b[1;31m---------------------------------------------------------------------------\u001b[0m",
      "\u001b[1;31mTypeError\u001b[0m                                 Traceback (most recent call last)",
      "Cell \u001b[1;32mIn[41], line 1\u001b[0m\n\u001b[1;32m----> 1\u001b[0m ind[\u001b[38;5;241m1\u001b[39m] \u001b[38;5;241m=\u001b[39m \u001b[38;5;241m0\u001b[39m\n",
      "File \u001b[1;32m~\\anaconda3\\Lib\\site-packages\\pandas\\core\\indexes\\base.py:5371\u001b[0m, in \u001b[0;36mIndex.__setitem__\u001b[1;34m(self, key, value)\u001b[0m\n\u001b[0;32m   5369\u001b[0m \u001b[38;5;129m@final\u001b[39m\n\u001b[0;32m   5370\u001b[0m \u001b[38;5;28;01mdef\u001b[39;00m \u001b[38;5;21m__setitem__\u001b[39m(\u001b[38;5;28mself\u001b[39m, key, value) \u001b[38;5;241m-\u001b[39m\u001b[38;5;241m>\u001b[39m \u001b[38;5;28;01mNone\u001b[39;00m:\n\u001b[1;32m-> 5371\u001b[0m     \u001b[38;5;28;01mraise\u001b[39;00m \u001b[38;5;167;01mTypeError\u001b[39;00m(\u001b[38;5;124m\"\u001b[39m\u001b[38;5;124mIndex does not support mutable operations\u001b[39m\u001b[38;5;124m\"\u001b[39m)\n",
      "\u001b[1;31mTypeError\u001b[0m: Index does not support mutable operations"
     ]
    }
   ],
   "source": [
    "ind[1] = 0"
   ]
  },
  {
   "cell_type": "markdown",
   "id": "5a16a0e3-ae60-4943-a8c9-2f5813ee0b77",
   "metadata": {
    "jp-MarkdownHeadingCollapsed": true
   },
   "source": [
    "### Index as Ordered Set"
   ]
  },
  {
   "cell_type": "markdown",
   "id": "bfdc5f23-bc26-4558-8176-203daec28716",
   "metadata": {},
   "source": [
    "The `Index` object follows many of the conventions used by Python's built-in `set` data structure, so that unions, intersections, differences, and other combinations can be computed in a familiar way."
   ]
  },
  {
   "cell_type": "code",
   "execution_count": 42,
   "id": "15ff8c52-3810-4942-98d7-058080fc421b",
   "metadata": {},
   "outputs": [],
   "source": [
    "indA = pd.Index([1, 3, 5, 7, 9])\n",
    "indB = pd.Index([2, 3, 5, 7, 11])"
   ]
  },
  {
   "cell_type": "code",
   "execution_count": 43,
   "id": "5c8f95ba-e470-4448-b6a7-02f2b4af501b",
   "metadata": {},
   "outputs": [
    {
     "data": {
      "text/plain": [
       "Index([3, 5, 7], dtype='int64')"
      ]
     },
     "execution_count": 43,
     "metadata": {},
     "output_type": "execute_result"
    }
   ],
   "source": [
    "indA.intersection(indB)"
   ]
  },
  {
   "cell_type": "code",
   "execution_count": 45,
   "id": "d281cc95-a73a-4098-8475-751ca60baa6e",
   "metadata": {},
   "outputs": [
    {
     "data": {
      "text/plain": [
       "Index([1, 2, 3, 5, 7, 9, 11], dtype='int64')"
      ]
     },
     "execution_count": 45,
     "metadata": {},
     "output_type": "execute_result"
    }
   ],
   "source": [
    "indA.union(indB)"
   ]
  },
  {
   "cell_type": "code",
   "execution_count": 47,
   "id": "9a8dce99-6288-41d4-9154-b0f9ab5f1604",
   "metadata": {},
   "outputs": [
    {
     "data": {
      "text/plain": [
       "Index([1, 2, 9, 11], dtype='int64')"
      ]
     },
     "execution_count": 47,
     "metadata": {},
     "output_type": "execute_result"
    }
   ],
   "source": [
    "indA.symmetric_difference(indB)"
   ]
  },
  {
   "cell_type": "markdown",
   "id": "d6cfbfa9-bbba-491d-a54e-4c4609316f2a",
   "metadata": {},
   "source": [
    "# Chapter 14 : Data Indexing and Selection"
   ]
  },
  {
   "cell_type": "markdown",
   "id": "3cb63674-d2ac-4553-809f-7b58381449c3",
   "metadata": {},
   "source": [
    "## 14.1 Data Selection in Series\n",
    "---"
   ]
  },
  {
   "cell_type": "markdown",
   "id": "cd12ba59-69d2-44f8-adb2-c495c5cb901f",
   "metadata": {},
   "source": [
    "### Series as Dicitonary"
   ]
  },
  {
   "cell_type": "markdown",
   "id": "00fa5eab-3bc8-4e23-a68b-ee286c8fb780",
   "metadata": {},
   "source": [
    "### Series as 1-D Array"
   ]
  },
  {
   "cell_type": "markdown",
   "id": "8cabeb22-d001-458d-b0ff-517ffd669ade",
   "metadata": {},
   "source": [
    "### Indexers: `loc` and `iloc`"
   ]
  },
  {
   "cell_type": "markdown",
   "id": "91045217-0819-46e3-bef8-104486da528f",
   "metadata": {},
   "source": [
    "## 14.2 Data Selection in DataFrames\n",
    "---"
   ]
  },
  {
   "cell_type": "markdown",
   "id": "0857e7f1-368d-4610-ac84-2b1e174005ca",
   "metadata": {},
   "source": [
    "### DataFrame as Dictionary"
   ]
  },
  {
   "cell_type": "markdown",
   "id": "675c7371-8683-4a33-b532-a2d782be4632",
   "metadata": {},
   "source": [
    "### DataFrame as 2-D Array"
   ]
  },
  {
   "cell_type": "markdown",
   "id": "62813cad-e84d-49cb-8f58-e8ddcf4fb833",
   "metadata": {},
   "source": [
    "### Additional Indexing Conventions"
   ]
  },
  {
   "cell_type": "markdown",
   "id": "92992e49-aca3-4737-b26f-2feaa84c4dfa",
   "metadata": {},
   "source": [
    "# Chapter 15:"
   ]
  },
  {
   "cell_type": "code",
   "execution_count": null,
   "id": "31d2be17-9f2e-41ff-8ec6-4b27c3060383",
   "metadata": {},
   "outputs": [],
   "source": []
  }
 ],
 "metadata": {
  "kernelspec": {
   "display_name": "Python 3 (ipykernel)",
   "language": "python",
   "name": "python3"
  },
  "language_info": {
   "codemirror_mode": {
    "name": "ipython",
    "version": 3
   },
   "file_extension": ".py",
   "mimetype": "text/x-python",
   "name": "python",
   "nbconvert_exporter": "python",
   "pygments_lexer": "ipython3",
   "version": "3.12.7"
  }
 },
 "nbformat": 4,
 "nbformat_minor": 5
}
