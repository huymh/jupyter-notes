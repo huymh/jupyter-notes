{
 "cells": [
  {
   "cell_type": "markdown",
   "id": "b6d7936d-0a56-4d69-ad54-e7991b8a0fa9",
   "metadata": {
    "jp-MarkdownHeadingCollapsed": true
   },
   "source": [
    "# Chapter 4. Understanding Data Types in Python"
   ]
  },
  {
   "cell_type": "markdown",
   "id": "49571048-f2e4-4738-8caa-81113e24a576",
   "metadata": {
    "jp-MarkdownHeadingCollapsed": true
   },
   "source": [
    "## 4.1. A Python Integer is More Than Just an Integer\n",
    "---"
   ]
  },
  {
   "cell_type": "markdown",
   "id": "9f093452-8c96-4164-83ea-64ce7c7fcf4c",
   "metadata": {},
   "source": [
    "The standard Python implementation is written in C. This measn that every Python object is a cleverly disguised C structure. When we define an integer in Python, such as `x = 1000`, `x` is not just a \"raw\" integer. It's actually a pointer to a compound C structure containing several values."
   ]
  },
  {
   "cell_type": "markdown",
   "id": "e7d45eda-4563-4fb5-9cf0-aac6e311624a",
   "metadata": {},
   "source": [
    "A single integer in Python contains 4 pieces:\n",
    "- `ob_refcnt`\n",
    "  : a reference count that helps Python silently handle memory allocation and deallocation\n",
    "- `ob_type`\n",
    "  : encodes the type of the variable\n",
    "- `ob_size`\n",
    "  : specifies the size of the following data members\n",
    "- `ob digit`\n",
    "  : contains the actual integer value that we expect the Python variable to represent\n"
   ]
  },
  {
   "cell_type": "markdown",
   "id": "8bf48b5c-940f-4282-8544-e2cb66165567",
   "metadata": {
    "jp-MarkdownHeadingCollapsed": true
   },
   "source": [
    "## 4.2. A Python List is More Than Just a List\n",
    "---"
   ]
  },
  {
   "cell_type": "markdown",
   "id": "67c0e1f1-ccf0-4548-aef5-40fb69c98749",
   "metadata": {},
   "source": [
    "Let's consider what happens when we use a Python data structure that holds many Python objects. The standard mutable multi-element container in Python is the list."
   ]
  },
  {
   "cell_type": "code",
   "execution_count": 227,
   "id": "894aad34-f8f1-4029-9750-ca57bac40dae",
   "metadata": {},
   "outputs": [
    {
     "name": "stdout",
     "output_type": "stream",
     "text": [
      "L =  [0, 1, 2, 3, 4, 5, 6, 7, 8, 9] \n",
      " <class 'int'>\n",
      "\n",
      "L2 =  ['0', '1', '2', '3', '4', '5', '6', '7', '8', '9'] \n",
      " <class 'str'>\n"
     ]
    }
   ],
   "source": [
    "L = list(range(10))\n",
    "L2 = [str(c) for c in L]\n",
    "print('L = ', L, '\\n', type(L[0]))\n",
    "print('\\nL2 = ', L2, \"\\n\", type(L2[0]))"
   ]
  },
  {
   "cell_type": "markdown",
   "id": "cbf3e483-a0e4-4ac5-b462-d5a650bdaff7",
   "metadata": {},
   "source": [
    "Because of Python's dynamic typing, we can create heterogenous lists."
   ]
  },
  {
   "cell_type": "code",
   "execution_count": 228,
   "id": "e16167c9-6440-4de9-8e71-ebb04d409090",
   "metadata": {},
   "outputs": [
    {
     "data": {
      "text/plain": [
       "[bool, str, float, int]"
      ]
     },
     "execution_count": 228,
     "metadata": {},
     "output_type": "execute_result"
    }
   ],
   "source": [
    "L3 = [True, '2', 3.0, 4]\n",
    "[type(item) for item in L3]"
   ]
  },
  {
   "cell_type": "markdown",
   "id": "15b080a4-8027-4696-9642-cc6e8475f521",
   "metadata": {},
   "source": [
    "Flexibility comes at a cost: to allow flexible types, each item in the list must contain its own type, reference count, and other info. In the case that all variables are of the same type, much of this info is redundant. It can be much more **efficient** to store the data in a fixed-type array. The array contains a single pointer to one contiguous block of data. The Python list, on the other hand, contains a pointer to a block of pointers, each of which in turn points to a full Python object. The advantage of a list is that it can be filled with data of any desired type. Fixed-type **NumPy**-style arrays lack this flexibility, but are much more efficient for storing and manipulating data."
   ]
  },
  {
   "cell_type": "markdown",
   "id": "e43f0119-4c0d-4be1-9fe7-74edf3444db9",
   "metadata": {
    "jp-MarkdownHeadingCollapsed": true
   },
   "source": [
    "## 4.3 Creating Arrays from Python Lists\n",
    "---"
   ]
  },
  {
   "cell_type": "markdown",
   "id": "c6b2b256-9f9d-4f6e-a2ca-2e4888cfd0c7",
   "metadata": {},
   "source": [
    "We'll start with the standard NumPy import, under the alias `np`."
   ]
  },
  {
   "cell_type": "code",
   "execution_count": 229,
   "id": "5f609340-f712-480e-b966-171035346971",
   "metadata": {},
   "outputs": [],
   "source": [
    "import numpy as np"
   ]
  },
  {
   "cell_type": "markdown",
   "id": "1d492994-1a25-4313-a157-8a90fdb8b36b",
   "metadata": {},
   "source": [
    "We can use `np.array` to create arrays from Python lists."
   ]
  },
  {
   "cell_type": "code",
   "execution_count": 230,
   "id": "5f169c38-8868-4c14-a7e3-7730528ea696",
   "metadata": {},
   "outputs": [
    {
     "data": {
      "text/plain": [
       "array([1, 2, 3, 4, 5])"
      ]
     },
     "execution_count": 230,
     "metadata": {},
     "output_type": "execute_result"
    }
   ],
   "source": [
    "# Integer array\n",
    "np.array([1, 2, 3, 4, 5])"
   ]
  },
  {
   "cell_type": "markdown",
   "id": "283af58e-bad0-4f57-ab64-6eefbfe7ae69",
   "metadata": {},
   "source": [
    "NumPy arrays can only contain data of the same type. If the types do not match, NumPy will **upcast* them according to its type promotion rules; here, integers are upcast to floating point."
   ]
  },
  {
   "cell_type": "code",
   "execution_count": 231,
   "id": "a073120e-1572-4dce-9c0d-12e3a806d079",
   "metadata": {},
   "outputs": [
    {
     "data": {
      "text/plain": [
       "array([3.14, 1.  , 2.  , 3.  ])"
      ]
     },
     "execution_count": 231,
     "metadata": {},
     "output_type": "execute_result"
    }
   ],
   "source": [
    "np.array([3.14, 1, 2, 3])"
   ]
  },
  {
   "cell_type": "markdown",
   "id": "0b306d00-371f-4959-9784-d04e821b138f",
   "metadata": {},
   "source": [
    "Use `dtype` to explicitly set the data type of the resulting array"
   ]
  },
  {
   "cell_type": "code",
   "execution_count": 232,
   "id": "e70126d3-8733-46cf-ab03-40f2cbbb068f",
   "metadata": {},
   "outputs": [
    {
     "data": {
      "text/plain": [
       "array([1., 2., 3., 4.], dtype=float32)"
      ]
     },
     "execution_count": 232,
     "metadata": {},
     "output_type": "execute_result"
    }
   ],
   "source": [
    "np.array([1, 2, 3, 4], dtype = np.float32)"
   ]
  },
  {
   "cell_type": "markdown",
   "id": "915b4c48-bd37-4aad-bd84-f4f077d6807c",
   "metadata": {},
   "source": [
    "NumPy arrays can be multidimensional. Here's one way of initializing a multidimensional array using a list of lists."
   ]
  },
  {
   "cell_type": "code",
   "execution_count": 233,
   "id": "4dd41e15-91bc-4e15-a1e4-0b91331760a8",
   "metadata": {},
   "outputs": [
    {
     "data": {
      "text/plain": [
       "array([[1, 2, 3],\n",
       "       [2, 3, 4],\n",
       "       [3, 4, 5]])"
      ]
     },
     "execution_count": 233,
     "metadata": {},
     "output_type": "execute_result"
    }
   ],
   "source": [
    "# Nested lists resulting in multidimensional arrays\n",
    "np.array([range(i, i + 3) for i in [1, 2, 3]])"
   ]
  },
  {
   "cell_type": "markdown",
   "id": "92fd1cbf-6509-4c51-bfc1-9d1ea5c040a6",
   "metadata": {
    "jp-MarkdownHeadingCollapsed": true
   },
   "source": [
    "## 4.4 Creating Arrays from Scratch\n",
    "---"
   ]
  },
  {
   "cell_type": "markdown",
   "id": "baa6772d-6573-47aa-a3bf-cfd92ba33d58",
   "metadata": {},
   "source": [
    "Especially for larger arrays, it is more efficient to create arrays from scratch using routines built into NumPy."
   ]
  },
  {
   "cell_type": "code",
   "execution_count": 234,
   "id": "2e4bdbde-abfa-4786-8da2-2d0228726be5",
   "metadata": {},
   "outputs": [
    {
     "data": {
      "text/plain": [
       "array([0, 0, 0, 0, 0, 0, 0, 0, 0, 0])"
      ]
     },
     "execution_count": 234,
     "metadata": {},
     "output_type": "execute_result"
    }
   ],
   "source": [
    "# Create a length-10 integer array filled with 0s\n",
    "np.zeros(10, dtype = int)"
   ]
  },
  {
   "cell_type": "code",
   "execution_count": 235,
   "id": "9b1f0d23-07e8-4b47-a732-5c81019f10c1",
   "metadata": {},
   "outputs": [
    {
     "data": {
      "text/plain": [
       "array([[1., 1., 1., 1., 1.],\n",
       "       [1., 1., 1., 1., 1.],\n",
       "       [1., 1., 1., 1., 1.]])"
      ]
     },
     "execution_count": 235,
     "metadata": {},
     "output_type": "execute_result"
    }
   ],
   "source": [
    "# Create a 3x5 floating-point array filled with 1s\n",
    "np.ones((3,5), dtype = float)"
   ]
  },
  {
   "cell_type": "code",
   "execution_count": 236,
   "id": "a7bf074b-50df-4578-8c37-e494fc637236",
   "metadata": {},
   "outputs": [
    {
     "data": {
      "text/plain": [
       "array([[3.14, 3.14, 3.14, 3.14, 3.14],\n",
       "       [3.14, 3.14, 3.14, 3.14, 3.14],\n",
       "       [3.14, 3.14, 3.14, 3.14, 3.14]])"
      ]
     },
     "execution_count": 236,
     "metadata": {},
     "output_type": "execute_result"
    }
   ],
   "source": [
    "# Create a 3x5 floating point array filled with 3.14\n",
    "np.full((3,5), 3.14)"
   ]
  },
  {
   "cell_type": "code",
   "execution_count": 237,
   "id": "2f717f0f-196a-4a95-86ff-f3935e4d4a8a",
   "metadata": {},
   "outputs": [
    {
     "data": {
      "text/plain": [
       "array([ 0,  2,  4,  6,  8, 10, 12, 14, 16, 18])"
      ]
     },
     "execution_count": 237,
     "metadata": {},
     "output_type": "execute_result"
    }
   ],
   "source": [
    "# Create an array filled with a linear sequence starting at 0, ending at 20, stepping by 2\n",
    "np.arange(0, 20, 2)"
   ]
  },
  {
   "cell_type": "code",
   "execution_count": 238,
   "id": "d03af623-604d-4e25-8eb6-a10aa3b3f8f8",
   "metadata": {},
   "outputs": [
    {
     "data": {
      "text/plain": [
       "array([0.  , 0.25, 0.5 , 0.75, 1.  ])"
      ]
     },
     "execution_count": 238,
     "metadata": {},
     "output_type": "execute_result"
    }
   ],
   "source": [
    "# Create an array of five values evenly spaced between 0 and 1\n",
    "np.linspace(0, 1, 5)"
   ]
  },
  {
   "cell_type": "code",
   "execution_count": 239,
   "id": "64991487-582f-415e-915f-c49268948856",
   "metadata": {},
   "outputs": [
    {
     "data": {
      "text/plain": [
       "array([[0.65837477, 0.87981412, 0.51775065],\n",
       "       [0.33183918, 0.52055435, 0.75047281],\n",
       "       [0.41722251, 0.68790789, 0.43544921]])"
      ]
     },
     "execution_count": 239,
     "metadata": {},
     "output_type": "execute_result"
    }
   ],
   "source": [
    "# Create a 3x3 array of uniformly distributed pseudorandom values between 0 and 1\n",
    "np.random.random((3,3))"
   ]
  },
  {
   "cell_type": "code",
   "execution_count": 240,
   "id": "79d15a02-e711-46ff-866b-c8c063847df4",
   "metadata": {},
   "outputs": [
    {
     "data": {
      "text/plain": [
       "array([[ 0.70638015,  0.22630184, -0.7981797 ],\n",
       "       [ 1.26961619,  1.18776659,  0.57172263],\n",
       "       [-0.16790724,  1.60386781,  0.71367333]])"
      ]
     },
     "execution_count": 240,
     "metadata": {},
     "output_type": "execute_result"
    }
   ],
   "source": [
    "# Create a 3x3 array of normally distributed pseudorandom values with mean 0 and standard deviation 1\n",
    "np.random.normal(0, 1, (3,3))"
   ]
  },
  {
   "cell_type": "code",
   "execution_count": 241,
   "id": "68fa35b4-0451-4359-ba1a-af9fa25cf601",
   "metadata": {},
   "outputs": [
    {
     "data": {
      "text/plain": [
       "array([[3, 9, 6],\n",
       "       [3, 6, 2],\n",
       "       [0, 3, 7]])"
      ]
     },
     "execution_count": 241,
     "metadata": {},
     "output_type": "execute_result"
    }
   ],
   "source": [
    "# Create a 3x3 array of pseudorandom integers in the interval [0,10)\n",
    "np.random.randint(0, 10, (3,3))"
   ]
  },
  {
   "cell_type": "code",
   "execution_count": 242,
   "id": "651fb51d-30ca-44a8-aefe-bbfd00c617db",
   "metadata": {},
   "outputs": [
    {
     "data": {
      "text/plain": [
       "array([[1., 0., 0.],\n",
       "       [0., 1., 0.],\n",
       "       [0., 0., 1.]])"
      ]
     },
     "execution_count": 242,
     "metadata": {},
     "output_type": "execute_result"
    }
   ],
   "source": [
    "# Create a 3x3 identity matrix\n",
    "np.eye(3)"
   ]
  },
  {
   "cell_type": "code",
   "execution_count": 243,
   "id": "580c8ac4-c6bb-413b-8fc2-bd9083543000",
   "metadata": {},
   "outputs": [
    {
     "data": {
      "text/plain": [
       "array([1., 1., 1.])"
      ]
     },
     "execution_count": 243,
     "metadata": {},
     "output_type": "execute_result"
    }
   ],
   "source": [
    "# Create an uninitialized array of three integers; the values will be whatever happens to already exist at the memory location\n",
    "np.empty(3)"
   ]
  },
  {
   "cell_type": "markdown",
   "id": "d1961c66-4ebf-452b-a3f8-27423a325eb9",
   "metadata": {
    "jp-MarkdownHeadingCollapsed": true
   },
   "source": [
    "## 4.5 NumPy Standard Data Types\n",
    "---"
   ]
  },
  {
   "cell_type": "markdown",
   "id": "aee45ae2-ce81-4566-9137-60f3420ff5b3",
   "metadata": {},
   "source": [
    "Note that when constructing an array, the standard NumPy data types can be specified using a string:\n",
    "```\n",
    "np.zeros(10, dtype='int16')\n",
    "```\n",
    "Or using the associated NumPy object:\n",
    "```\n",
    "np.zeros(10, dtype=np.int16)\n",
    "```"
   ]
  },
  {
   "cell_type": "markdown",
   "id": "8a101905-b3d8-4bf4-8506-8bb0fbbfc0c4",
   "metadata": {},
   "source": [
    "A table of Standard NumPy data types:\n",
    "|Data type |Description|\n",
    "|----------|-----------|\n",
    "|bool_|Boolean(t/f) stored as a byte|\n",
    "|int_|Default integer type (same as C; normally either int32 or int64|\n",
    "|intc|Identical to C int (normally int32 or int64)|\n",
    "|intp|Integer used for indexing (same as C `ssize_t`; normally either int32 or int64)|\n",
    "|int8|Byte (-128 to 127)|\n",
    "|int16|Integer (-32768 to 32767)|\n",
    "|int32|Integer (–2147483648 to 2147483647)|\n",
    "|int64|Integer (–9223372036854775808 to 9223372036854775807)|\n",
    "|uint8|Unsigned integer (0 to 255)|\n",
    "|uint16|Unsigned integer (0 to 65535)|\n",
    "|uint32|Unsigned integer (0 to 4294967295)|\n",
    "|uint64|Unsigned integer (0 to 18446744073709551615)|\n",
    "|float_|Shorthand for `float_64`|\n",
    "|float16|Half-precision float: sign bit, 5 bits exponent, 10 bits mantissa|\n",
    "|float32|float32 Single-precision float: sign bit, 8 bits exponent, 23 bits mantissa|\n",
    "|float64|Double-precision float: sign bit, 11 bits exponent, 52 bits mantissa|\n",
    "|complex_|Shorthand for `complex128`|\n",
    "|complex64|Complex number, represented by two 32-bit floats|\n",
    "|complex128|Complex number, represented by two 64-bit floats|"
   ]
  },
  {
   "cell_type": "markdown",
   "id": "826be4ab-e776-4f12-9a97-ca81b359a4a5",
   "metadata": {
    "jp-MarkdownHeadingCollapsed": true
   },
   "source": [
    "# Chapter 5. The Basics of NumPy Arrays"
   ]
  },
  {
   "cell_type": "markdown",
   "id": "b3d37d67-4107-495e-80aa-53b8f870653a",
   "metadata": {
    "jp-MarkdownHeadingCollapsed": true
   },
   "source": [
    "## 5.1 NumPy Array Attributes\n",
    "---"
   ]
  },
  {
   "cell_type": "code",
   "execution_count": 244,
   "id": "1397b25f-0cbf-465f-93a4-3ad889b3707b",
   "metadata": {},
   "outputs": [],
   "source": [
    "rng = np.random.default_rng(seed=1701) # seed for reproducibility\n",
    "\n",
    "x1 = rng.integers(10, size = 6) # 1-d array\n",
    "x2 = rng.integers(10, size = (3, 4)) # 2-d array\n",
    "x3 = rng.integers(10, size =(3, 4, 5)) # 3-d array"
   ]
  },
  {
   "cell_type": "markdown",
   "id": "8f64ce0e-199a-49e6-b020-f655f394946c",
   "metadata": {},
   "source": [
    "Each array has attributes including\n",
    "- `ndim`\n",
    "  : the number of dimensions\n",
    "- `shape`\n",
    "  : the size of each dimension\n",
    "- `size`\n",
    "  : the total size of the array\n",
    "- `dtype`\n",
    "- : the type of each element"
   ]
  },
  {
   "cell_type": "code",
   "execution_count": 245,
   "id": "ae6ebd86-8894-445c-a1f5-b7ab8d1a185c",
   "metadata": {},
   "outputs": [
    {
     "name": "stdout",
     "output_type": "stream",
     "text": [
      "x3 ndim :  3\n",
      "x3 shape:  (3, 4, 5)\n",
      "x3 size:  60\n",
      "dtype :  int64\n"
     ]
    }
   ],
   "source": [
    "print(\"x3 ndim : \", x3.ndim)\n",
    "print(\"x3 shape: \", x3.shape)\n",
    "print(\"x3 size: \", x3.size)\n",
    "print(\"dtype : \", x3.dtype)"
   ]
  },
  {
   "cell_type": "markdown",
   "id": "8e219430-5814-44a6-9fa0-570f19a93f45",
   "metadata": {
    "jp-MarkdownHeadingCollapsed": true
   },
   "source": [
    "## 5.2 Array Indexing: Accessing Single Elements\n",
    "---"
   ]
  },
  {
   "cell_type": "markdown",
   "id": "749481dd-b238-44a0-93a4-3177abf2a315",
   "metadata": {},
   "source": [
    "In a 1-d array, the i<sub>th</sub> value (counting from 0) can be accessed by specifying the desired index in **square brackets**, just as with Python lists:"
   ]
  },
  {
   "cell_type": "code",
   "execution_count": 246,
   "id": "0c37cc50-9913-49f8-a59d-9b4ae8c14464",
   "metadata": {},
   "outputs": [
    {
     "name": "stdout",
     "output_type": "stream",
     "text": [
      "x1 = [9 4 0 3 8 6]\n",
      "x1[0] =  9\n",
      "x1[4] =  8\n"
     ]
    }
   ],
   "source": [
    "print('x1 =', x1)\n",
    "print('x1[0] = ', x1[0])\n",
    "print('x1[4] = ', x1[4])"
   ]
  },
  {
   "cell_type": "markdown",
   "id": "5d4b363a-5395-4127-a915-ccab1997c31d",
   "metadata": {},
   "source": [
    "To index from the end of the array you can use negative indices:"
   ]
  },
  {
   "cell_type": "code",
   "execution_count": 247,
   "id": "98046d10-4a91-4a90-a500-60d8f4b5cdfa",
   "metadata": {},
   "outputs": [
    {
     "name": "stdout",
     "output_type": "stream",
     "text": [
      "x1[-1] =  6\n",
      "x1[-2] =  8\n"
     ]
    }
   ],
   "source": [
    "print('x1[-1] = ', x1[-1])\n",
    "print('x1[-2] = ', x1[-2])"
   ]
  },
  {
   "cell_type": "markdown",
   "id": "378297b0-ab8c-4064-914d-39cfbec059a5",
   "metadata": {},
   "source": [
    "In a multidimensional array, items can be accessed using a comma-separated tuple **( `[row, column]` )**:"
   ]
  },
  {
   "cell_type": "code",
   "execution_count": 248,
   "id": "71a045d6-9134-43b1-90ce-f18fdda6ace6",
   "metadata": {},
   "outputs": [
    {
     "name": "stdout",
     "output_type": "stream",
     "text": [
      "[[3 1 3 7]\n",
      " [4 0 2 3]\n",
      " [0 0 6 9]]\n",
      "\n",
      "x2[0,0] = 3\n",
      "x2[1,2] = 2\n",
      "x2[2,-1] = 9\n"
     ]
    }
   ],
   "source": [
    "print(x2)\n",
    "print('\\nx2[0,0] =', x2[0,0])\n",
    "print('x2[1,2] =', x2[1,2])\n",
    "print('x2[2,-1] =', x2[2,-1])"
   ]
  },
  {
   "cell_type": "markdown",
   "id": "ea65b060-aa30-4b80-833c-ecee28ebad40",
   "metadata": {},
   "source": [
    "Values can be modified using any of the preceding index notation:"
   ]
  },
  {
   "cell_type": "code",
   "execution_count": 249,
   "id": "1752aa91-83c6-4421-818e-6ff1d9472dbd",
   "metadata": {},
   "outputs": [
    {
     "name": "stdout",
     "output_type": "stream",
     "text": [
      "[[12  1  3  7]\n",
      " [ 4  0  2  3]\n",
      " [ 0  0  6  9]]\n"
     ]
    }
   ],
   "source": [
    "x2[0,0] = 12\n",
    "print(x2)"
   ]
  },
  {
   "cell_type": "markdown",
   "id": "25a8c763-2bf1-4d77-8c2d-3bae28667747",
   "metadata": {},
   "source": [
    "Remember that NumPy arrays have a fixed type. This means, for example, if you attempt to insert a floating-point value into an integer array, the value will be *silently* truncated!"
   ]
  },
  {
   "cell_type": "code",
   "execution_count": 250,
   "id": "887b45cf-0f40-430f-a261-924084f6a612",
   "metadata": {},
   "outputs": [
    {
     "name": "stdout",
     "output_type": "stream",
     "text": [
      "[3 4 0 3 8 6]\n"
     ]
    }
   ],
   "source": [
    "x1[0] = 3.14159\n",
    "print(x1)"
   ]
  },
  {
   "cell_type": "markdown",
   "id": "985ca2b3-f5b0-4d2e-bcce-af7514861be5",
   "metadata": {
    "jp-MarkdownHeadingCollapsed": true
   },
   "source": [
    "## 5.3 Array Slicing : Accessing Subarrays\n",
    "---"
   ]
  },
  {
   "cell_type": "markdown",
   "id": "05d4c523-179b-4fa4-ba01-dfcc3bc3a1bd",
   "metadata": {},
   "source": [
    "Just as we can use square brackets to access individual array elements, we can also use them to access subarrays with the *slice* notation, marked by the colon ( **`:`** ) character. The NumPy slicing syntax follows that of the standard Python list; to access a slice of an array `x`, use this:\n",
    "```\n",
    "x[start:stop:step]\n",
    "```\n",
    "If any of these are unspecified, they default to the values:\n",
    "- start = 0\n",
    "- stop = size of dimension\n",
    "- step = 1"
   ]
  },
  {
   "cell_type": "markdown",
   "id": "bfc8b1b1-7566-4308-b049-614d7bfa5af5",
   "metadata": {
    "jp-MarkdownHeadingCollapsed": true
   },
   "source": [
    "### One-Dimensional Subarrays"
   ]
  },
  {
   "cell_type": "code",
   "execution_count": 251,
   "id": "c8a55e83-f138-48b9-b5ee-052d46f01734",
   "metadata": {},
   "outputs": [
    {
     "name": "stdout",
     "output_type": "stream",
     "text": [
      "[3 4 0 3 8 6]\n"
     ]
    }
   ],
   "source": [
    "print(x1)"
   ]
  },
  {
   "cell_type": "code",
   "execution_count": 252,
   "id": "246c1d69-518d-4199-b734-de3de83bfb68",
   "metadata": {},
   "outputs": [
    {
     "name": "stdout",
     "output_type": "stream",
     "text": [
      "[3 4 0]\n"
     ]
    }
   ],
   "source": [
    "print(x1[:3]) # first 3 elements"
   ]
  },
  {
   "cell_type": "code",
   "execution_count": 253,
   "id": "4000d8d5-eacc-4429-9350-e0164357f3d3",
   "metadata": {},
   "outputs": [
    {
     "name": "stdout",
     "output_type": "stream",
     "text": [
      "[3 8 6]\n"
     ]
    }
   ],
   "source": [
    "print(x1[3:]) # elements after index 3"
   ]
  },
  {
   "cell_type": "code",
   "execution_count": 254,
   "id": "ef89e08d-9afe-44a9-b0b6-ef452f4aaad5",
   "metadata": {},
   "outputs": [
    {
     "name": "stdout",
     "output_type": "stream",
     "text": [
      "[4 0 3]\n"
     ]
    }
   ],
   "source": [
    "print(x1[1:4]) # middle subarray"
   ]
  },
  {
   "cell_type": "code",
   "execution_count": 255,
   "id": "3df621d1-063d-4088-af05-79c435f5e757",
   "metadata": {},
   "outputs": [
    {
     "name": "stdout",
     "output_type": "stream",
     "text": [
      "[3 0 8]\n"
     ]
    }
   ],
   "source": [
    "print(x1[::2]) # every second element"
   ]
  },
  {
   "cell_type": "code",
   "execution_count": 256,
   "id": "4bc80317-5577-44fc-af8f-86568bb1ee6d",
   "metadata": {},
   "outputs": [
    {
     "name": "stdout",
     "output_type": "stream",
     "text": [
      "[4 3 6]\n"
     ]
    }
   ],
   "source": [
    "print(x1[1::2]) # every second element starting at index 1"
   ]
  },
  {
   "cell_type": "markdown",
   "id": "e11530dd-18ff-4c85-8e61-8d886b03fdd4",
   "metadata": {},
   "source": [
    "> When a step value is negative, *the defaults for start and stop are swapped*, making it convenient to reverse an array."
   ]
  },
  {
   "cell_type": "code",
   "execution_count": 257,
   "id": "e62f81b1-ea48-4ed2-9c39-b72884c4afde",
   "metadata": {},
   "outputs": [
    {
     "name": "stdout",
     "output_type": "stream",
     "text": [
      "[6 8 3 0 4 3]\n"
     ]
    }
   ],
   "source": [
    "print(x1[::-1]) # all elements reversed"
   ]
  },
  {
   "cell_type": "code",
   "execution_count": 258,
   "id": "71a8a4ab-754c-45eb-ba95-41d8bea75a47",
   "metadata": {},
   "outputs": [
    {
     "name": "stdout",
     "output_type": "stream",
     "text": [
      "[8 0 3]\n"
     ]
    }
   ],
   "source": [
    "print(x1[4::-2]) # every second element form index 4, reversed"
   ]
  },
  {
   "cell_type": "markdown",
   "id": "4d564566-59c7-410b-ab20-d86c5916a6c4",
   "metadata": {},
   "source": [
    "### Multidimensional Subarrays"
   ]
  },
  {
   "cell_type": "markdown",
   "id": "1f6a08eb-413d-4ed2-b0b6-7038e3aa88ca",
   "metadata": {},
   "source": [
    "Multidimensional slices work in the same way, with multiple slices separated by commas."
   ]
  },
  {
   "cell_type": "code",
   "execution_count": 259,
   "id": "7ce28fad-131a-475b-b3e1-0480ddba9e7e",
   "metadata": {},
   "outputs": [
    {
     "name": "stdout",
     "output_type": "stream",
     "text": [
      "[[12  1  3  7]\n",
      " [ 4  0  2  3]\n",
      " [ 0  0  6  9]]\n"
     ]
    }
   ],
   "source": [
    "print(x2)"
   ]
  },
  {
   "cell_type": "code",
   "execution_count": 260,
   "id": "72c8956e-683e-4abf-b8b4-719b24ab51a6",
   "metadata": {},
   "outputs": [
    {
     "name": "stdout",
     "output_type": "stream",
     "text": [
      "[[12  1  3]\n",
      " [ 4  0  2]]\n"
     ]
    }
   ],
   "source": [
    "print(x2[:2, :3]) # first two rows and three columns"
   ]
  },
  {
   "cell_type": "code",
   "execution_count": 261,
   "id": "fe12f776-7982-4db8-a247-be0d152c7687",
   "metadata": {},
   "outputs": [
    {
     "name": "stdout",
     "output_type": "stream",
     "text": [
      "[[12  3]\n",
      " [ 4  2]\n",
      " [ 0  6]]\n"
     ]
    }
   ],
   "source": [
    "print(x2[:3, ::2]) # first three rows, every other column"
   ]
  },
  {
   "cell_type": "code",
   "execution_count": 262,
   "id": "54cb9c0f-45be-4258-8db3-79ff99de089b",
   "metadata": {},
   "outputs": [
    {
     "name": "stdout",
     "output_type": "stream",
     "text": [
      "[[ 9  6  0  0]\n",
      " [ 3  2  0  4]\n",
      " [ 7  3  1 12]]\n"
     ]
    }
   ],
   "source": [
    "print(x2[::-1, ::-1]) # all rows and columns, reversed"
   ]
  },
  {
   "cell_type": "markdown",
   "id": "a5aaabe7-2d7e-487b-ab13-d2b8088a942d",
   "metadata": {},
   "source": [
    "One commonly needed routine is accessing single rows or columns of an array. This can be done by combining indexing and slicing, using an empty slice marked by a single colon ( **`:`** ) :"
   ]
  },
  {
   "cell_type": "code",
   "execution_count": 263,
   "id": "0a41a58a-3e8c-4e22-ac76-e2230b596a65",
   "metadata": {},
   "outputs": [
    {
     "name": "stdout",
     "output_type": "stream",
     "text": [
      "[12  4  0]\n"
     ]
    }
   ],
   "source": [
    "print(x2[:, 0]) # first column of x2"
   ]
  },
  {
   "cell_type": "code",
   "execution_count": 264,
   "id": "a41c5542-9488-46eb-a291-405bef79c236",
   "metadata": {},
   "outputs": [
    {
     "name": "stdout",
     "output_type": "stream",
     "text": [
      "[12  1  3  7]\n",
      "[12  1  3  7]\n"
     ]
    }
   ],
   "source": [
    "print(x2[0, :]) # first row of x2\n",
    "\n",
    "# alternatively, we can omit the empty slice for more compact syntax\n",
    "print(x2[0])"
   ]
  },
  {
   "cell_type": "markdown",
   "id": "ca2f49da-9db5-4b2a-9b36-5574f44ec811",
   "metadata": {
    "jp-MarkdownHeadingCollapsed": true
   },
   "source": [
    "## 5.4 Subarrays as No-Copy Views and Copy Views\n",
    "---"
   ]
  },
  {
   "cell_type": "markdown",
   "id": "c8779571-d102-4168-ba3f-7f2ca5427114",
   "metadata": {},
   "source": [
    "Unlike Python list slices, NumPy array slices are returned as *views* rather than *copies* of the array data. Consider our 2-d array from before:"
   ]
  },
  {
   "cell_type": "code",
   "execution_count": 265,
   "id": "a4ff84bc-7779-461e-8597-cc8289cf0eae",
   "metadata": {},
   "outputs": [
    {
     "name": "stdout",
     "output_type": "stream",
     "text": [
      "[[12  1  3  7]\n",
      " [ 4  0  2  3]\n",
      " [ 0  0  6  9]]\n"
     ]
    }
   ],
   "source": [
    "print(x2)"
   ]
  },
  {
   "cell_type": "markdown",
   "id": "34afb1b8-ee3d-42b1-a77d-d621b2ab8132",
   "metadata": {},
   "source": [
    "Let's extract a $2 \\times 2$ subarray from this."
   ]
  },
  {
   "cell_type": "code",
   "execution_count": 266,
   "id": "57816f8a-d91e-4e26-a085-97cf025536e4",
   "metadata": {},
   "outputs": [
    {
     "name": "stdout",
     "output_type": "stream",
     "text": [
      "[[12  1]\n",
      " [ 4  0]]\n"
     ]
    }
   ],
   "source": [
    "x2_sub = x2[:2, :2]\n",
    "print(x2_sub)"
   ]
  },
  {
   "cell_type": "markdown",
   "id": "c24a4104-6814-48a8-a47c-6dfd89a92f14",
   "metadata": {},
   "source": [
    "Now if we modify this subarray, we will see *the original array has changed!* Observe:"
   ]
  },
  {
   "cell_type": "code",
   "execution_count": 267,
   "id": "933b0a3b-e7b4-4068-90c5-a4f9ef06dc94",
   "metadata": {},
   "outputs": [
    {
     "name": "stdout",
     "output_type": "stream",
     "text": [
      "[[99  1]\n",
      " [ 4  0]] \n",
      "\n",
      "[[99  1  3  7]\n",
      " [ 4  0  2  3]\n",
      " [ 0  0  6  9]]\n"
     ]
    }
   ],
   "source": [
    "x2_sub[0,0] = 99\n",
    "print(x2_sub, \"\\n\")\n",
    "print(x2)"
   ]
  },
  {
   "cell_type": "markdown",
   "id": "a988502f-a9d6-4a9e-91d4-a0aad6ab3321",
   "metadata": {},
   "source": [
    "This can be advantageous; for example, when working with large datasets, we can access and process pieces of these datasets without the need to copy the underlying data buffer."
   ]
  },
  {
   "cell_type": "markdown",
   "id": "4ed809d7-1a9a-4754-bfc1-abfca35b8ee6",
   "metadata": {
    "jp-MarkdownHeadingCollapsed": true
   },
   "source": [
    "### Creating Copies of Arrays"
   ]
  },
  {
   "cell_type": "markdown",
   "id": "5bd5f28e-2f0d-4f0a-a5b8-92d521753dc7",
   "metadata": {},
   "source": [
    "It's sometimes useful to instead explicitly copy the data within an array or a subarray. The easiest way is with the **`copy`** method:"
   ]
  },
  {
   "cell_type": "code",
   "execution_count": 268,
   "id": "eb511bbd-8587-4e67-ba32-502f692ca993",
   "metadata": {},
   "outputs": [
    {
     "name": "stdout",
     "output_type": "stream",
     "text": [
      "[[99  1]\n",
      " [ 4  0]]\n"
     ]
    }
   ],
   "source": [
    "x2_sub_copy = x2[:2, :2].copy()\n",
    "print(x2_sub_copy)"
   ]
  },
  {
   "cell_type": "markdown",
   "id": "b62a86f9-dc2d-422e-9535-3a1e028cea8b",
   "metadata": {},
   "source": [
    "Now if we modify this subarray, *the original array is not touched*."
   ]
  },
  {
   "cell_type": "code",
   "execution_count": 269,
   "id": "51f1a32d-354e-4e62-9732-e90d583b926a",
   "metadata": {},
   "outputs": [
    {
     "name": "stdout",
     "output_type": "stream",
     "text": [
      "[[42  1]\n",
      " [ 4  0]] \n",
      "\n",
      "[[99  1  3  7]\n",
      " [ 4  0  2  3]\n",
      " [ 0  0  6  9]]\n"
     ]
    }
   ],
   "source": [
    "x2_sub_copy[0,0] = 42\n",
    "print(x2_sub_copy, \"\\n\")\n",
    "print(x2)"
   ]
  },
  {
   "cell_type": "markdown",
   "id": "c36c969b-41e2-41f7-bacc-cd325275c83e",
   "metadata": {
    "jp-MarkdownHeadingCollapsed": true
   },
   "source": [
    "## 5.5 Reshaping of Arrays\n",
    "---"
   ]
  },
  {
   "cell_type": "markdown",
   "id": "6d17f693-0993-4504-90ce-f20a4c25c6e9",
   "metadata": {},
   "source": [
    "This can be done with the **`reshape`** method."
   ]
  },
  {
   "cell_type": "code",
   "execution_count": 270,
   "id": "6b41f1af-2ad5-4236-87a7-a7b54d5d1040",
   "metadata": {},
   "outputs": [
    {
     "name": "stdout",
     "output_type": "stream",
     "text": [
      "[[1 2 3]\n",
      " [4 5 6]\n",
      " [7 8 9]]\n"
     ]
    }
   ],
   "source": [
    "grid = np.arange(1, 10).reshape(3,3) # putting the numbers 1-9 in a 3x3 grid\n",
    "print(grid)\n",
    "\n",
    "# for this to work, the initial array must match the size of the reshaped array"
   ]
  },
  {
   "cell_type": "markdown",
   "id": "d2eee3dc-1c3a-4bfe-9688-2e28bbab8bdb",
   "metadata": {},
   "source": [
    "In most cases, the `reshape` method will return a *no-copy* view of the initial array.\n",
    "\n",
    "A common reshaping operation is converting a 1-d array into a 2-d row or column matrix:"
   ]
  },
  {
   "cell_type": "code",
   "execution_count": 271,
   "id": "ef6fce04-38f3-4891-9f26-e80b81853203",
   "metadata": {},
   "outputs": [
    {
     "data": {
      "text/plain": [
       "array([[1, 2, 3]])"
      ]
     },
     "execution_count": 271,
     "metadata": {},
     "output_type": "execute_result"
    }
   ],
   "source": [
    "x = np.array([1, 2, 3])\n",
    "x.reshape((1,3)) # row vector via reshape"
   ]
  },
  {
   "cell_type": "code",
   "execution_count": 272,
   "id": "9f7450c5-c073-48d0-b076-c9ef462baa6a",
   "metadata": {},
   "outputs": [
    {
     "data": {
      "text/plain": [
       "array([[1],\n",
       "       [2],\n",
       "       [3]])"
      ]
     },
     "execution_count": 272,
     "metadata": {},
     "output_type": "execute_result"
    }
   ],
   "source": [
    "x.reshape((3,1)) # column vector via reshape"
   ]
  },
  {
   "cell_type": "markdown",
   "id": "81bfb29b-7ea7-4920-9fda-0568cf8c8361",
   "metadata": {},
   "source": [
    "A convenient shorthand is to use **`np.newaxis`** in the slicing syntax:"
   ]
  },
  {
   "cell_type": "code",
   "execution_count": 273,
   "id": "31d1e529-99f2-45b0-b64f-d58c35252288",
   "metadata": {},
   "outputs": [
    {
     "data": {
      "text/plain": [
       "array([[1, 2, 3]])"
      ]
     },
     "execution_count": 273,
     "metadata": {},
     "output_type": "execute_result"
    }
   ],
   "source": [
    "x[np.newaxis,:] # row vector via newaxis"
   ]
  },
  {
   "cell_type": "code",
   "execution_count": 274,
   "id": "37394aa8-8b91-4a50-ba34-5dd049cfe5d0",
   "metadata": {},
   "outputs": [
    {
     "data": {
      "text/plain": [
       "array([[1],\n",
       "       [2],\n",
       "       [3]])"
      ]
     },
     "execution_count": 274,
     "metadata": {},
     "output_type": "execute_result"
    }
   ],
   "source": [
    "x[:, np.newaxis] # column vector via newaxis"
   ]
  },
  {
   "cell_type": "markdown",
   "id": "0561f62b-d0e8-4ed4-8aa0-f3948f6e3c3e",
   "metadata": {
    "jp-MarkdownHeadingCollapsed": true
   },
   "source": [
    "## 5.6 Array Concatenation and Splitting\n",
    "---"
   ]
  },
  {
   "cell_type": "markdown",
   "id": "dc755d2c-2049-40fc-8383-dbf03cd8e86d",
   "metadata": {
    "jp-MarkdownHeadingCollapsed": true
   },
   "source": [
    "### Concatenation of Arrays"
   ]
  },
  {
   "cell_type": "markdown",
   "id": "4b096464-9bd0-4148-9bda-fe06bb064be1",
   "metadata": {},
   "source": [
    "Concatenation, or joining of two arrays in NumPy, is primarily accomplished using the routines **`np.concatenate`**, **`np.vstack`**, **`np.hstack`**.\n",
    "\n",
    "`np.concatenate` takes a tuple of arrays as its first argument."
   ]
  },
  {
   "cell_type": "code",
   "execution_count": 275,
   "id": "3912ec28-6700-4444-9697-8c600ba99bd3",
   "metadata": {},
   "outputs": [
    {
     "data": {
      "text/plain": [
       "array([1, 2, 3, 4, 5, 6])"
      ]
     },
     "execution_count": 275,
     "metadata": {},
     "output_type": "execute_result"
    }
   ],
   "source": [
    "x = np.array([1, 2, 3])\n",
    "y = np.array([4, 5, 6])\n",
    "\n",
    "np.concatenate([x, y])"
   ]
  },
  {
   "cell_type": "code",
   "execution_count": 276,
   "id": "45cd0c80-7fdb-4471-a365-7f4c48c14d1f",
   "metadata": {},
   "outputs": [
    {
     "data": {
      "text/plain": [
       "array([1, 2, 3, 4, 5, 6, 7, 8, 9])"
      ]
     },
     "execution_count": 276,
     "metadata": {},
     "output_type": "execute_result"
    }
   ],
   "source": [
    "z = np.array([7, 8, 9])\n",
    "np.concatenate([x, y, z]) # concatenating more than two arrays at once"
   ]
  },
  {
   "cell_type": "code",
   "execution_count": 277,
   "id": "9249b38a-d80b-4604-9bb7-7c24fa818be1",
   "metadata": {},
   "outputs": [
    {
     "data": {
      "text/plain": [
       "array([[1, 2, 3],\n",
       "       [4, 5, 6],\n",
       "       [1, 2, 3],\n",
       "       [4, 5, 6]])"
      ]
     },
     "execution_count": 277,
     "metadata": {},
     "output_type": "execute_result"
    }
   ],
   "source": [
    "grid = np.array([[1, 2, 3],\n",
    "                [4, 5, 6]])\n",
    "\n",
    "# can be used for 2-d arrays\n",
    "np.concatenate([grid, grid]) # concatenate along the first axis"
   ]
  },
  {
   "cell_type": "code",
   "execution_count": 278,
   "id": "1331e2db-cf2e-4a55-adb7-1090f7d2c94a",
   "metadata": {},
   "outputs": [
    {
     "data": {
      "text/plain": [
       "array([[1, 2, 3, 1, 2, 3],\n",
       "       [4, 5, 6, 4, 5, 6]])"
      ]
     },
     "execution_count": 278,
     "metadata": {},
     "output_type": "execute_result"
    }
   ],
   "source": [
    "np.concatenate([grid, grid], axis = 1) # concatenate along the second axis (zero-indexed)"
   ]
  },
  {
   "cell_type": "markdown",
   "id": "b4448549-2fa2-4efc-a7b4-2e6fd12f249f",
   "metadata": {},
   "source": [
    "For working with arrays with mixed dimensions, it can be clearer to use `np.vstack` and `np.hstack`."
   ]
  },
  {
   "cell_type": "code",
   "execution_count": 279,
   "id": "a3335e8a-7ed9-4f98-a5bc-98d04a4ade54",
   "metadata": {},
   "outputs": [
    {
     "data": {
      "text/plain": [
       "array([[1, 2, 3],\n",
       "       [1, 2, 3],\n",
       "       [4, 5, 6]])"
      ]
     },
     "execution_count": 279,
     "metadata": {},
     "output_type": "execute_result"
    }
   ],
   "source": [
    "np.vstack([x, grid]) # vertically stack the arrays"
   ]
  },
  {
   "cell_type": "code",
   "execution_count": 280,
   "id": "f35c7e38-546b-43c0-8330-db80a83525f9",
   "metadata": {},
   "outputs": [
    {
     "data": {
      "text/plain": [
       "array([[ 1,  2,  3, 99],\n",
       "       [ 4,  5,  6, 99]])"
      ]
     },
     "execution_count": 280,
     "metadata": {},
     "output_type": "execute_result"
    }
   ],
   "source": [
    "y = np.array([[99],\n",
    "              [99]])\n",
    "np.hstack([grid, y]) # horizontally stack the arrays"
   ]
  },
  {
   "cell_type": "markdown",
   "id": "8a4e90c0-588b-4a8a-930c-83cc4c5ec265",
   "metadata": {},
   "source": [
    "For higher-dimensional arrays, **`np.dstack`** will stack arrays along the third axis."
   ]
  },
  {
   "cell_type": "markdown",
   "id": "7c36a2db-043b-41bd-a5d9-f6680a9a273f",
   "metadata": {
    "jp-MarkdownHeadingCollapsed": true
   },
   "source": [
    "### Splitting of Arrays"
   ]
  },
  {
   "cell_type": "markdown",
   "id": "feb33f3c-92dc-4f96-b0ab-7b0e18899c47",
   "metadata": {},
   "source": [
    "The opposite of concatenation is splitting, which is implemented by **`np.split`**, **`np.hsplit`**, and **`np.vsplit`**."
   ]
  },
  {
   "cell_type": "code",
   "execution_count": 281,
   "id": "b0488b47-85ae-4d5b-bee4-6ebe5682e728",
   "metadata": {},
   "outputs": [
    {
     "name": "stdout",
     "output_type": "stream",
     "text": [
      "[1 2 3] [99 99] [3 2 1]\n"
     ]
    }
   ],
   "source": [
    "x = [1, 2, 3, 99, 99, 3, 2, 1]\n",
    "x1, x2, x3 = np.split(x, [3,5]) # pass a list of indices giving the split points\n",
    "print(x1, x2, x3)"
   ]
  },
  {
   "cell_type": "markdown",
   "id": "1613b21d-6361-4941-8bcc-cccef087312a",
   "metadata": {},
   "source": [
    "Notice how $N$ split points lead to $N+1$ subarrays. `np.hsplit` and `np.vsplit` are similar."
   ]
  },
  {
   "cell_type": "code",
   "execution_count": 282,
   "id": "4347fabe-3c38-475f-a5de-b23057bab85c",
   "metadata": {},
   "outputs": [
    {
     "name": "stdout",
     "output_type": "stream",
     "text": [
      "[[ 0  1  2  3]\n",
      " [ 4  5  6  7]\n",
      " [ 8  9 10 11]\n",
      " [12 13 14 15]]\n"
     ]
    }
   ],
   "source": [
    "grid = np.arange(16).reshape(4,4)\n",
    "print(grid)"
   ]
  },
  {
   "cell_type": "code",
   "execution_count": 283,
   "id": "7eedd6e9-a3bb-461a-8fec-94ad416de62c",
   "metadata": {},
   "outputs": [
    {
     "name": "stdout",
     "output_type": "stream",
     "text": [
      "[[0 1 2 3]\n",
      " [4 5 6 7]] \n",
      "\n",
      "[[ 8  9 10 11]\n",
      " [12 13 14 15]]\n"
     ]
    }
   ],
   "source": [
    "upper, lower = np.vsplit(grid, [2])\n",
    "print(upper, '\\n')\n",
    "print(lower)"
   ]
  },
  {
   "cell_type": "code",
   "execution_count": 284,
   "id": "06378c71-6a38-4b0a-931e-9fb8375cf966",
   "metadata": {},
   "outputs": [
    {
     "name": "stdout",
     "output_type": "stream",
     "text": [
      "[[ 0  1]\n",
      " [ 4  5]\n",
      " [ 8  9]\n",
      " [12 13]] \n",
      "\n",
      "[[ 2  3]\n",
      " [ 6  7]\n",
      " [10 11]\n",
      " [14 15]]\n"
     ]
    }
   ],
   "source": [
    "left, right = np.hsplit(grid, [2])\n",
    "print(left, '\\n')\n",
    "print(right)"
   ]
  },
  {
   "cell_type": "markdown",
   "id": "63da6695-0e17-4579-999b-ea1efaf8a262",
   "metadata": {},
   "source": [
    "For higher-dimensional arrays, **`np.dsplit`** will split arrays along the third axis"
   ]
  },
  {
   "cell_type": "markdown",
   "id": "ff178633-950c-4b28-843a-7fa88f9c20b5",
   "metadata": {
    "jp-MarkdownHeadingCollapsed": true
   },
   "source": [
    "# Chapter 6. Computation on NumPy Arrays: Universal Functions"
   ]
  },
  {
   "cell_type": "markdown",
   "id": "0f9db2b1-3774-4d46-aa2e-9624232ec87d",
   "metadata": {
    "jp-MarkdownHeadingCollapsed": true
   },
   "source": [
    "## 6.1 Slowness of Loops\n",
    "---"
   ]
  },
  {
   "cell_type": "markdown",
   "id": "2d05e69f-54aa-42fc-add9-44d564bd6dce",
   "metadata": {},
   "source": [
    "Python loops are slow; the type checking and function dispatches slow down the process dramatically."
   ]
  },
  {
   "cell_type": "code",
   "execution_count": 285,
   "id": "70980b89-b621-4c6e-b90d-69ddd736de98",
   "metadata": {},
   "outputs": [
    {
     "data": {
      "text/plain": [
       "array([0.11111111, 0.25      , 1.        , 0.33333333, 0.125     ])"
      ]
     },
     "execution_count": 285,
     "metadata": {},
     "output_type": "execute_result"
    }
   ],
   "source": [
    "rng = np.random.default_rng(seed = 1701)\n",
    "\n",
    "def compute_reciprocals(values):\n",
    "    output = np.empty(len(values))\n",
    "    for i in range(len(values)):\n",
    "        output[i] = 1.0 / values[i]\n",
    "    return output\n",
    "\n",
    "values = rng.integers(1,10, size = 5)\n",
    "compute_reciprocals(values)"
   ]
  },
  {
   "cell_type": "code",
   "execution_count": 286,
   "id": "840f8311-2d8c-476e-a2bf-7dd9443bfe04",
   "metadata": {},
   "outputs": [
    {
     "name": "stdout",
     "output_type": "stream",
     "text": [
      "1.2 s ± 20.9 ms per loop (mean ± std. dev. of 7 runs, 1 loop each)\n"
     ]
    }
   ],
   "source": [
    "big_array = rng.integers(1, 100, size = 1000000)\n",
    "%timeit compute_reciprocals(big_array)"
   ]
  },
  {
   "cell_type": "markdown",
   "id": "4636a777-2195-4020-a2ec-8f96351e8fad",
   "metadata": {},
   "source": [
    "It takes several seconds to compute these million operations and to store the result."
   ]
  },
  {
   "cell_type": "markdown",
   "id": "c4ef689b-864d-42d5-be59-cccce71ec54f",
   "metadata": {
    "jp-MarkdownHeadingCollapsed": true
   },
   "source": [
    "## 6.2 Introducing Ufuncs\n",
    "---"
   ]
  },
  {
   "cell_type": "markdown",
   "id": "1889ca7c-0bd5-421d-99e5-942d14a92ec5",
   "metadata": {},
   "source": [
    "For many types of operations, NumPy provides a convenient interface into a kind of statically typed, compiled routine. This is known as a ***vectorized*** operation. For simple operations like the element-wise division, vectorization is simple as using Python arithmetic operators *directly* on the array object. This vectorized approach is designed to push the loop into the compiled layer that underlies NumPy, leading to much faster execution.\n",
    "\n",
    "Compare the results of the following two operations:"
   ]
  },
  {
   "cell_type": "code",
   "execution_count": 287,
   "id": "b881bad2-9433-4e21-b174-c1ed8b7bc720",
   "metadata": {},
   "outputs": [
    {
     "name": "stdout",
     "output_type": "stream",
     "text": [
      "[0.11111111 0.25       1.         0.33333333 0.125     ]\n",
      "[0.11111111 0.25       1.         0.33333333 0.125     ]\n"
     ]
    }
   ],
   "source": [
    "print(compute_reciprocals(values))\n",
    "print(1.0 / values)"
   ]
  },
  {
   "cell_type": "markdown",
   "id": "0e773519-2694-4a83-bcb2-77885ca6c1e4",
   "metadata": {},
   "source": [
    "Looking at the execution time for our big array, we see that it completes orders of magnitude faster than the Python loop."
   ]
  },
  {
   "cell_type": "code",
   "execution_count": 288,
   "id": "8044e6c9-1786-4acd-b5a8-a658dd922dcd",
   "metadata": {},
   "outputs": [
    {
     "name": "stdout",
     "output_type": "stream",
     "text": [
      "2.47 ms ± 9.47 μs per loop (mean ± std. dev. of 7 runs, 100 loops each)\n"
     ]
    }
   ],
   "source": [
    "%timeit (1.0 / big_array)"
   ]
  },
  {
   "cell_type": "markdown",
   "id": "c11d8e93-deef-452b-bf2a-32d7afbe18cc",
   "metadata": {},
   "source": [
    "Vectorized operations in NumPy are implemented via ***ufuncs***, whose main purpose is to quickly execute repeated operations on values in NumPy arrays. Ufuncs are extremely flexible - before we saw an operation between a scalar and an array, but we can also operate on two arrays and multidimensional arrays."
   ]
  },
  {
   "cell_type": "code",
   "execution_count": 289,
   "id": "a52875b7-ce4c-44a5-aa18-86907579e7b7",
   "metadata": {},
   "outputs": [
    {
     "data": {
      "text/plain": [
       "array([0.        , 0.5       , 0.66666667, 0.75      , 0.8       ])"
      ]
     },
     "execution_count": 289,
     "metadata": {},
     "output_type": "execute_result"
    }
   ],
   "source": [
    "np.arange(5) / np.arange(1, 6)"
   ]
  },
  {
   "cell_type": "code",
   "execution_count": 290,
   "id": "b81edae8-1e32-46d5-b069-6de3db56be11",
   "metadata": {},
   "outputs": [
    {
     "data": {
      "text/plain": [
       "array([[  1,   2,   4],\n",
       "       [  8,  16,  32],\n",
       "       [ 64, 128, 256]], dtype=int32)"
      ]
     },
     "execution_count": 290,
     "metadata": {},
     "output_type": "execute_result"
    }
   ],
   "source": [
    "x = np.arange(9).reshape((3,3))\n",
    "2 ** x"
   ]
  },
  {
   "cell_type": "markdown",
   "id": "2b6b57c2-f9ed-413a-9765-181a95597142",
   "metadata": {
    "jp-MarkdownHeadingCollapsed": true
   },
   "source": [
    "## 6.3 NumPy's Ufuncs\n",
    "---"
   ]
  },
  {
   "cell_type": "markdown",
   "id": "f1a88fa8-7777-4c9e-a25f-16806db53172",
   "metadata": {},
   "source": [
    "Ufuncs exist in two flavors: ***unary ufuncs*** operate on a single input, and ***binary ufuncs*** operate on two inputs."
   ]
  },
  {
   "cell_type": "markdown",
   "id": "c0caeb8c-d5c6-4ab9-a928-f942446ef53c",
   "metadata": {},
   "source": [
    "### Array Arithmetic"
   ]
  },
  {
   "cell_type": "markdown",
   "id": "6cdb8c00-7c31-4dd6-910f-5dbfb1323266",
   "metadata": {},
   "source": [
    "NumPy's ufuncs should feel natural to use because they make use of Python's native arithmetic operators. The standard addition, subtraction, multiplication, and division can all be used."
   ]
  },
  {
   "cell_type": "code",
   "execution_count": 291,
   "id": "82d93aec-2a19-4a21-9931-f8296b349c3d",
   "metadata": {},
   "outputs": [
    {
     "name": "stdout",
     "output_type": "stream",
     "text": [
      "x      = [0 1 2 3]\n",
      "x + 5  = [5 6 7 8]\n",
      "x - 5  = [-5 -4 -3 -2]\n",
      "x * 2  = [0 2 4 6]\n",
      "x / 2  = [0.  0.5 1.  1.5]\n",
      "x // 2 = [0 0 1 1]\n"
     ]
    }
   ],
   "source": [
    "x = np.arange(4)\n",
    "print('x      =', x)\n",
    "print('x + 5  =', x + 5)\n",
    "print('x - 5  =', x - 5)\n",
    "print('x * 2  =', x * 2)\n",
    "print('x / 2  =', x /2)\n",
    "print('x // 2 =', x // 2)"
   ]
  },
  {
   "cell_type": "code",
   "execution_count": 292,
   "id": "597f3857-70d6-4203-8631-55b85c1d5bac",
   "metadata": {},
   "outputs": [
    {
     "name": "stdout",
     "output_type": "stream",
     "text": [
      "-x     = [ 0 -1 -2 -3]\n",
      "x ** 2 = [0 1 4 9]\n",
      "x % 2  = [0 1 0 1]\n"
     ]
    }
   ],
   "source": [
    "# ufuncs for negation, exponentiation, and modulus too\n",
    "print('-x     =', -x)\n",
    "print('x ** 2 =', x ** 2)\n",
    "print('x % 2  =', x % 2)"
   ]
  },
  {
   "cell_type": "code",
   "execution_count": 293,
   "id": "f8af1a22-a45c-4870-9a75-22f38e2140b4",
   "metadata": {},
   "outputs": [
    {
     "data": {
      "text/plain": [
       "array([-1.  , -2.25, -4.  , -6.25])"
      ]
     },
     "execution_count": 293,
     "metadata": {},
     "output_type": "execute_result"
    }
   ],
   "source": [
    "# these can be strung together however; standard order of operations is respected\n",
    "-(0.5*x + 1) ** 2"
   ]
  },
  {
   "cell_type": "markdown",
   "id": "4a56770a-8bfa-41b3-aa44-7a183171fb99",
   "metadata": {},
   "source": [
    "Arithmetic operators implemented in NumPy\n",
    "\n",
    "|Operator|Equivalent ufunc|Description|\n",
    "|--------|----------------|-----------|\n",
    "|+|np.add|Addition (1 + 1 = 2)|\n",
    "|-|np.subtract|Subtraction (3 - 2 = 1)|\n",
    "|-|np.negative|Unary negation (-2)|\n",
    "|*|np.multiply|Multiplication (2 * 3 = 6)|\n",
    "|/|np.divide|Division (3 / 2 = 1.5)|\n",
    "|//|np.floor_divide|Floor division ( 3 // 2 = 1)|\n",
    "|**|np.power|Exponentiation (2 ** 3 = 8)|\n",
    "|%|np.mod|Modulus/remainder ( 9 % 4 = 1)|"
   ]
  },
  {
   "cell_type": "markdown",
   "id": "cb11f50f-fad4-4381-90dd-d798b239f28a",
   "metadata": {},
   "source": [
    "### Absolute Value"
   ]
  },
  {
   "cell_type": "markdown",
   "id": "3c53b144-a5be-4cc7-accf-64325eb4c019",
   "metadata": {},
   "source": [
    "Just as NumPy understands Python's built-in arithmetic operators, it also understands Python's built-in absolute value function **`abs`**. The corresponding NumPy ufunc is **`np.absolute`** which is also available under the alias **`np.abs`**."
   ]
  },
  {
   "cell_type": "code",
   "execution_count": 294,
   "id": "83fbe8fe-1104-4026-8ffb-411940907a1a",
   "metadata": {},
   "outputs": [
    {
     "name": "stdout",
     "output_type": "stream",
     "text": [
      "[2 1 0 1 2]\n",
      "[2 1 0 1 2]\n",
      "[2 1 0 1 2]\n"
     ]
    }
   ],
   "source": [
    "x = np.array([-2, -1, 0, 1, 2])\n",
    "print(abs(x))\n",
    "print(np.absolute(x))\n",
    "print(np.abs(x))"
   ]
  },
  {
   "cell_type": "markdown",
   "id": "fe79a8bb-d69c-457b-8780-b05622131fc2",
   "metadata": {},
   "source": [
    "### Trigonometric Functions"
   ]
  },
  {
   "cell_type": "markdown",
   "id": "1f10a447-7aa4-433c-9b0e-a872dd66c9d6",
   "metadata": {},
   "source": [
    "Start by defining an array of angles."
   ]
  },
  {
   "cell_type": "code",
   "execution_count": 295,
   "id": "7bc49887-5ff8-4853-ad2b-6d6ddb9dc7b7",
   "metadata": {},
   "outputs": [
    {
     "name": "stdout",
     "output_type": "stream",
     "text": [
      "theta      = [0.         1.57079633 3.14159265]\n",
      "sin(theta) = [0.0000000e+00 1.0000000e+00 1.2246468e-16]\n",
      "cos(theta) = [ 1.000000e+00  6.123234e-17 -1.000000e+00]\n",
      "tan(theta) = [ 0.00000000e+00  1.63312394e+16 -1.22464680e-16]\n"
     ]
    }
   ],
   "source": [
    "theta = np.linspace(0, np.pi, 3)\n",
    "print('theta      =', theta)\n",
    "print('sin(theta) =', np.sin(theta))\n",
    "print('cos(theta) =', np.cos(theta))\n",
    "print('tan(theta) =', np.tan(theta))"
   ]
  },
  {
   "cell_type": "markdown",
   "id": "2333ae4a-c142-484d-aca6-6e0414501ccd",
   "metadata": {},
   "source": [
    "The values are computed to *within machine precision*, which is why values that should be zero do not always hit exactly zero."
   ]
  },
  {
   "cell_type": "code",
   "execution_count": 296,
   "id": "88bfef58-de89-45d2-8f3b-f59d72ab26a1",
   "metadata": {},
   "outputs": [
    {
     "name": "stdout",
     "output_type": "stream",
     "text": [
      "x         = [-1  0  1]\n",
      "arcsin(x) = [-1.57079633  0.          1.57079633]\n",
      "arccos(x) = [3.14159265 1.57079633 0.        ]\n",
      "arctan(x) = [-0.78539816  0.          0.78539816]\n"
     ]
    }
   ],
   "source": [
    "x = np.array([-1, 0, 1])\n",
    "print('x         =', x)\n",
    "print('arcsin(x) =', np.arcsin(x))\n",
    "print('arccos(x) =', np.arccos(x))\n",
    "print('arctan(x) =', np.arctan(x))"
   ]
  },
  {
   "cell_type": "markdown",
   "id": "360ac2ac-8d28-4082-a486-aaebb7fc5d71",
   "metadata": {},
   "source": [
    "### Exponents and Logarithms"
   ]
  },
  {
   "cell_type": "code",
   "execution_count": 297,
   "id": "8e6326b2-088d-4fdd-8d2e-3a95b60b7e8b",
   "metadata": {},
   "outputs": [
    {
     "name": "stdout",
     "output_type": "stream",
     "text": [
      "x   = [1 2 3]\n",
      "e^x = [ 2.71828183  7.3890561  20.08553692]\n",
      "2^x = [2. 4. 8.]\n",
      "3^x = [ 3.  9. 27.]\n"
     ]
    }
   ],
   "source": [
    "x = np.array([1, 2, 3])\n",
    "print('x   =', x)\n",
    "print('e^x =', np.exp(x))\n",
    "print('2^x =', np.exp2(x))\n",
    "print('3^x =', np.power(3.,x))"
   ]
  },
  {
   "cell_type": "markdown",
   "id": "a9b053e1-f221-4b9a-9599-af0f64c0d450",
   "metadata": {},
   "source": [
    "The inverse of the exponentials, the logarithms, are also available. The basic **`np.log`** gives the *natural logarithm*. Base-2 and base-10 are also available."
   ]
  },
  {
   "cell_type": "code",
   "execution_count": 298,
   "id": "23f311a7-ab2b-4571-b370-c7a33ce0ed0c",
   "metadata": {},
   "outputs": [
    {
     "name": "stdout",
     "output_type": "stream",
     "text": [
      "x        = [ 1  2  4 10]\n",
      "ln(x)    = [0.         0.69314718 1.38629436 2.30258509]\n",
      "log2(x)  = [0.         1.         2.         3.32192809]\n",
      "log10(x) = [0.         0.30103    0.60205999 1.        ]\n"
     ]
    }
   ],
   "source": [
    "x = np.array([1, 2, 4, 10])\n",
    "print('x        =', x)\n",
    "print('ln(x)    =', np.log(x))\n",
    "print('log2(x)  =', np.log2(x))\n",
    "print('log10(x) =', np.log10(x))"
   ]
  },
  {
   "cell_type": "markdown",
   "id": "4ed12b45-5c94-4ccf-801d-c30c7bb916c2",
   "metadata": {},
   "source": [
    "There are also some specialized versions that are useful for maintaining precision with very small input:"
   ]
  },
  {
   "cell_type": "code",
   "execution_count": 299,
   "id": "1a30d7dc-3d28-40f6-8a45-f36ecc64da2d",
   "metadata": {},
   "outputs": [
    {
     "name": "stdout",
     "output_type": "stream",
     "text": [
      "exp(x) - 1 = [0.         0.0010005  0.01005017 0.10517092]\n",
      "log(1 + x) = [0.         0.0009995  0.00995033 0.09531018]\n"
     ]
    }
   ],
   "source": [
    "x = np.array([0, 0.001, 0.01, 0.1])\n",
    "print('exp(x) - 1 =', np.expm1(x))\n",
    "print('log(1 + x) =', np.log1p(x))"
   ]
  },
  {
   "cell_type": "markdown",
   "id": "f401cedb-c84c-4357-82d1-4763925dfa0a",
   "metadata": {},
   "source": [
    "When `x` is very small, these functions give more precise values than if the raw `np.log` or `np.exp` were to be used."
   ]
  },
  {
   "cell_type": "markdown",
   "id": "5fda47ec-f211-4cf6-9350-dd02f706bf09",
   "metadata": {},
   "source": [
    "### Specialized Ufuncs"
   ]
  },
  {
   "cell_type": "markdown",
   "id": "715c0200-a430-4a81-b637-123cb1ee48cd",
   "metadata": {},
   "source": [
    "NumPy has many more ufuncs available, including hyperbolic trig, bit-wise arithmetic, comparison operations, conversions from radians to degrees, rounding and remainders, and much more.\n",
    "\n",
    "Another excellent source for more specialized ufuncs is the submodule `scipy.special`. The following snippet shows a couple that might come up in a statistics context."
   ]
  },
  {
   "cell_type": "code",
   "execution_count": 300,
   "id": "ba88bbd8-0a41-4993-96a4-9c6b7cff2ff2",
   "metadata": {},
   "outputs": [
    {
     "name": "stdout",
     "output_type": "stream",
     "text": [
      "gamma(x)     = [1.0000e+00 2.4000e+01 3.6288e+05]\n",
      "ln|gamma(x)| = [ 0.          3.17805383 12.80182748]\n",
      "beta(x, 2)   = [0.5        0.03333333 0.00909091]\n"
     ]
    }
   ],
   "source": [
    "from scipy import special\n",
    "\n",
    "#Gamma functions (generalized factorials) and related functions\n",
    "x = np.array([1, 5, 10])\n",
    "print('gamma(x)     =', special.gamma(x))\n",
    "print('ln|gamma(x)| =', special.gammaln(x))\n",
    "print('beta(x, 2)   =', special.beta(x, 2))"
   ]
  },
  {
   "cell_type": "code",
   "execution_count": 301,
   "id": "25e25242-75c3-45b2-8d15-6fac1fe5c9d5",
   "metadata": {},
   "outputs": [
    {
     "name": "stdout",
     "output_type": "stream",
     "text": [
      "erf(x)    = [0.         0.32862676 0.67780119 0.84270079]\n",
      "erfc(x)   = [1.         0.67137324 0.32219881 0.15729921]\n",
      "erfinv(x) = [0.         0.27246271 0.73286908        inf]\n"
     ]
    }
   ],
   "source": [
    "# Error function (integral of Gaussian), its complement, and its inverse\n",
    "x = np.array([0, 0.3, 0.7, 1.0])\n",
    "print('erf(x)    =', special.erf(x))\n",
    "print('erfc(x)   =', special.erfc(x))\n",
    "print('erfinv(x) =', special.erfinv(x))"
   ]
  },
  {
   "cell_type": "markdown",
   "id": "95bfaaf6-8b6b-4c72-a2f4-50a743e2c0a5",
   "metadata": {},
   "source": [
    "### Specifying Output"
   ]
  },
  {
   "cell_type": "markdown",
   "id": "19e31442-7a7d-480c-af7a-8f96db62d771",
   "metadata": {},
   "source": [
    "For large calculations, it is sometimes useful to be able to specify the array where the result of the calculation will be stored. For all ufuncs, this can be done using the **`out`** argument of the function."
   ]
  },
  {
   "cell_type": "code",
   "execution_count": 302,
   "id": "34e7cd09-b843-4794-9237-38fb68bbdecc",
   "metadata": {},
   "outputs": [
    {
     "name": "stdout",
     "output_type": "stream",
     "text": [
      "[ 0. 10. 20. 30. 40.]\n"
     ]
    }
   ],
   "source": [
    "x = np.arange(5)\n",
    "y = np.empty(5)\n",
    "np.multiply(x, 10, out = y)\n",
    "print(y)"
   ]
  },
  {
   "cell_type": "markdown",
   "id": "bb2370ad-1df7-4b30-9574-0883670070da",
   "metadata": {},
   "source": [
    "This can be used with array views. For example, we can write the results of a computation to every other element of a specified array."
   ]
  },
  {
   "cell_type": "code",
   "execution_count": 303,
   "id": "d436f6f7-194a-4865-a381-caa5074319ed",
   "metadata": {},
   "outputs": [
    {
     "name": "stdout",
     "output_type": "stream",
     "text": [
      "[ 1.  0.  2.  0.  4.  0.  8.  0. 16.  0.]\n"
     ]
    }
   ],
   "source": [
    "y = np.zeros(10)\n",
    "np.power(2, x, out = y[::2])\n",
    "print(y)"
   ]
  },
  {
   "cell_type": "markdown",
   "id": "07d20aaa-96b4-45f8-ac03-ff5463aea0e5",
   "metadata": {},
   "source": [
    "If we had just written `y[::2] = 2 ** x`, this would have resulted in the creation of a temporary array to hold the results of `2 ** x`, followed by a second operation copying those values into the `y` array. This doesn't make much of a difference for such a small computation, but for very large arrays the memory savings from careful use of the `out` argument can be significant."
   ]
  },
  {
   "cell_type": "markdown",
   "id": "46ecc74b-6c7b-40dd-900e-f381c6b3db4b",
   "metadata": {},
   "source": [
    "### Aggregations"
   ]
  },
  {
   "cell_type": "markdown",
   "id": "fff975e0-05bf-47a4-893e-7f8e1e91700e",
   "metadata": {},
   "source": [
    "For binary ufuncs, aggregations can be computed directly from the object."
   ]
  },
  {
   "cell_type": "code",
   "execution_count": 304,
   "id": "cecfcbe9-e467-4b78-8219-d3a4d660bfee",
   "metadata": {},
   "outputs": [
    {
     "data": {
      "text/plain": [
       "15"
      ]
     },
     "execution_count": 304,
     "metadata": {},
     "output_type": "execute_result"
    }
   ],
   "source": [
    "# calling reduce on the add ufunc returns the sum of all elements in the array\n",
    "x = np.arange(1, 6)\n",
    "np.add.reduce(x)"
   ]
  },
  {
   "cell_type": "code",
   "execution_count": 305,
   "id": "88f6ccbe-d03a-41cd-8a07-afcce5886106",
   "metadata": {},
   "outputs": [
    {
     "data": {
      "text/plain": [
       "120"
      ]
     },
     "execution_count": 305,
     "metadata": {},
     "output_type": "execute_result"
    }
   ],
   "source": [
    "# calling reduce on the multiply ufunc results in the product of all array elements\n",
    "np.multiply.reduce(x)"
   ]
  },
  {
   "cell_type": "code",
   "execution_count": 306,
   "id": "4726090d-f00f-4eb9-823a-9c222ae99bbb",
   "metadata": {},
   "outputs": [
    {
     "name": "stdout",
     "output_type": "stream",
     "text": [
      "[ 1  3  6 10 15]\n",
      "[  1   2   6  24 120]\n"
     ]
    }
   ],
   "source": [
    "# if we'd like to store all the intermediate results, we can use accumulate\n",
    "print(np.add.accumulate(x))\n",
    "print(np.multiply.accumulate(x))"
   ]
  },
  {
   "cell_type": "markdown",
   "id": "fff32191-acf1-44fa-965c-99855ad9af98",
   "metadata": {},
   "source": [
    "Note that for these particular cases, there are dedicated NumPy functions to compute the results which are explored in Chapter 7."
   ]
  },
  {
   "cell_type": "markdown",
   "id": "56f58329-538b-40a1-87ed-595d12197c86",
   "metadata": {},
   "source": [
    "### Outer Products"
   ]
  },
  {
   "cell_type": "markdown",
   "id": "7606895f-6c30-4b6b-8d09-3144a2b6c04e",
   "metadata": {},
   "source": [
    "Any ufunc can compute the output of  all pairs of two different inputs using the **`outer`** method. This allows you, in one line, to do things like create a multiplication table."
   ]
  },
  {
   "cell_type": "code",
   "execution_count": 307,
   "id": "e56d6493-3448-4f18-bdca-d7ddbdeeb91e",
   "metadata": {},
   "outputs": [
    {
     "data": {
      "text/plain": [
       "array([[ 1,  2,  3,  4,  5],\n",
       "       [ 2,  4,  6,  8, 10],\n",
       "       [ 3,  6,  9, 12, 15],\n",
       "       [ 4,  8, 12, 16, 20],\n",
       "       [ 5, 10, 15, 20, 25]])"
      ]
     },
     "execution_count": 307,
     "metadata": {},
     "output_type": "execute_result"
    }
   ],
   "source": [
    "x = np.arange(1,6)\n",
    "np.multiply.outer(x, x)"
   ]
  },
  {
   "cell_type": "markdown",
   "id": "23cebf6b-35cc-409f-b13d-327596c95d64",
   "metadata": {},
   "source": [
    "### Ufuncs : Learning More"
   ]
  },
  {
   "cell_type": "markdown",
   "id": "3c510898-76fd-4d46-8681-e0f8551ff118",
   "metadata": {},
   "source": [
    "More information on universal functions can be found on the [NumPy](https://numpy.org/) and [SciPy](https://scipy.org/) documentation websites."
   ]
  },
  {
   "cell_type": "markdown",
   "id": "13f888c1-de54-42fc-a1ad-f7e8f759798e",
   "metadata": {
    "jp-MarkdownHeadingCollapsed": true
   },
   "source": [
    "# Chapter 7 : Aggregations: Min, Max, and Everything in Between"
   ]
  },
  {
   "cell_type": "markdown",
   "id": "2140fecb-8596-4224-83d6-4275ab345466",
   "metadata": {
    "jp-MarkdownHeadingCollapsed": true
   },
   "source": [
    "## 7.1 Summing Values in an Array\n",
    "---"
   ]
  },
  {
   "cell_type": "code",
   "execution_count": 308,
   "id": "d7c16e03-a8be-4e7b-b425-d5c452a65a6f",
   "metadata": {},
   "outputs": [
    {
     "data": {
      "text/plain": [
       "47.76790655681647"
      ]
     },
     "execution_count": 308,
     "metadata": {},
     "output_type": "execute_result"
    }
   ],
   "source": [
    "rng = np.random.default_rng()\n",
    "L = rng.random(100)\n",
    "\n",
    "# Python itself can sum all values in an array using the sum function\n",
    "sum(L)"
   ]
  },
  {
   "cell_type": "code",
   "execution_count": 310,
   "id": "2ac7a821-489a-476c-a1df-70f194ec462c",
   "metadata": {},
   "outputs": [
    {
     "data": {
      "text/plain": [
       "47.767906556816456"
      ]
     },
     "execution_count": 310,
     "metadata": {},
     "output_type": "execute_result"
    }
   ],
   "source": [
    "# the syntax is similar to that of the NumPy sum function\n",
    "# the result is the same in the simplest case\n",
    "np.sum(L)"
   ]
  },
  {
   "cell_type": "markdown",
   "id": "41e57362-4571-4bd6-82d3-15ac3ed24e58",
   "metadata": {},
   "source": [
    "NumPy's version **`np.sum`** is computed more quickly than Python's `sum`."
   ]
  },
  {
   "cell_type": "code",
   "execution_count": 311,
   "id": "a466d813-276e-478a-9fba-a54ef577241f",
   "metadata": {},
   "outputs": [
    {
     "name": "stdout",
     "output_type": "stream",
     "text": [
      "6.74 ms ± 524 μs per loop (mean ± std. dev. of 7 runs, 100 loops each)\n",
      "37.1 μs ± 134 ns per loop (mean ± std. dev. of 7 runs, 10,000 loops each)\n"
     ]
    }
   ],
   "source": [
    "big_array = rng.random(100000)\n",
    "%timeit sum(big_array)\n",
    "%timeit np.sum(big_array)"
   ]
  },
  {
   "cell_type": "markdown",
   "id": "9b7ccf79-986c-4e43-b20b-c86e86017b1d",
   "metadata": {},
   "source": [
    "Be careful though; the `sum` function and the `np.sum` function are not identical, which can lead to confusion! In particular, their optional arguments have different meanings. `sum(x , 1)` initializes the sum at 1 while `np.sum(x, 1)` sums along axis 1. This is because `np.sum` is aware of multidimensional arrays."
   ]
  },
  {
   "cell_type": "markdown",
   "id": "800f7952-ca89-4bd0-a238-55d16412643e",
   "metadata": {
    "jp-MarkdownHeadingCollapsed": true
   },
   "source": [
    "## 7.2 Minimum and Maximum\n",
    "---"
   ]
  },
  {
   "cell_type": "code",
   "execution_count": 313,
   "id": "c5a518a4-447d-4112-bf60-a1f371c94655",
   "metadata": {},
   "outputs": [
    {
     "data": {
      "text/plain": [
       "(1.0978400972749824e-05, 0.9999999370462692)"
      ]
     },
     "execution_count": 313,
     "metadata": {},
     "output_type": "execute_result"
    }
   ],
   "source": [
    "# Python's built-in min, max functions to find min/max value of a given array\n",
    "min(big_array), max(big_array)"
   ]
  },
  {
   "cell_type": "code",
   "execution_count": 314,
   "id": "ca459157-b6c1-4955-902c-178b5ac467f2",
   "metadata": {},
   "outputs": [
    {
     "data": {
      "text/plain": [
       "(1.0978400972749824e-05, 0.9999999370462692)"
      ]
     },
     "execution_count": 314,
     "metadata": {},
     "output_type": "execute_result"
    }
   ],
   "source": [
    "# corresponding NumPy functions; once again they operate much more quickly\n",
    "np.min(big_array), np.max(big_array)"
   ]
  },
  {
   "cell_type": "code",
   "execution_count": 315,
   "id": "7cfe1167-807c-4450-b211-a811abfa8db0",
   "metadata": {},
   "outputs": [
    {
     "name": "stdout",
     "output_type": "stream",
     "text": [
      "4.78 ms ± 72 μs per loop (mean ± std. dev. of 7 runs, 100 loops each)\n",
      "19.9 μs ± 201 ns per loop (mean ± std. dev. of 7 runs, 10,000 loops each)\n"
     ]
    }
   ],
   "source": [
    "%timeit min(big_array)\n",
    "%timeit np.min(big_array)"
   ]
  },
  {
   "cell_type": "markdown",
   "id": "f15a5110-3b1e-4d0b-8845-9792eb1cad14",
   "metadata": {},
   "source": [
    "For min, sum, and several other NumPy aggregates, a shorter syntax is to use methods of the array object itself."
   ]
  },
  {
   "cell_type": "code",
   "execution_count": 316,
   "id": "15846910-ae93-4a19-8e5b-e815bc7d0565",
   "metadata": {},
   "outputs": [
    {
     "name": "stdout",
     "output_type": "stream",
     "text": [
      "1.0978400972749824e-05 0.9999999370462692 50069.381402349936\n"
     ]
    }
   ],
   "source": [
    "print(big_array.min(), big_array.max(), big_array.sum())"
   ]
  },
  {
   "cell_type": "markdown",
   "id": "e797bb51-7be6-4e64-b65e-0f9b5776d625",
   "metadata": {
    "jp-MarkdownHeadingCollapsed": true
   },
   "source": [
    "## 7.3 Multidimensional Aggregates\n",
    "---"
   ]
  },
  {
   "cell_type": "markdown",
   "id": "735345ce-3c37-4636-a1b6-fc1218630251",
   "metadata": {},
   "source": [
    "One common type of aggregation operation is an aggregate along a row or column. "
   ]
  },
  {
   "cell_type": "code",
   "execution_count": 317,
   "id": "741c6cc5-5172-49ba-8ed1-23dbef5229b5",
   "metadata": {},
   "outputs": [
    {
     "name": "stdout",
     "output_type": "stream",
     "text": [
      "[[0 8 7 4]\n",
      " [7 3 2 4]\n",
      " [2 8 6 1]]\n"
     ]
    }
   ],
   "source": [
    "M = rng.integers(0, 10, (3,4))\n",
    "print(M)"
   ]
  },
  {
   "cell_type": "code",
   "execution_count": 319,
   "id": "822bf7b3-4e5c-46b8-b688-c556f7e579dd",
   "metadata": {},
   "outputs": [
    {
     "data": {
      "text/plain": [
       "52"
      ]
     },
     "execution_count": 319,
     "metadata": {},
     "output_type": "execute_result"
    }
   ],
   "source": [
    "# NumPy aggregations will apply across all elements of a multidimensional array\n",
    "M.sum()"
   ]
  },
  {
   "cell_type": "markdown",
   "id": "8feb6896-5288-4efc-ae75-8d7ac5bafe0c",
   "metadata": {},
   "source": [
    "Specify the argument **`axis`** along which for the aggregate to be computed."
   ]
  },
  {
   "cell_type": "code",
   "execution_count": 323,
   "id": "e06fef88-c379-4223-a285-d6700021b37c",
   "metadata": {},
   "outputs": [
    {
     "name": "stdout",
     "output_type": "stream",
     "text": [
      "[0 3 2 1]\n",
      "[7 8 7 4]\n"
     ]
    }
   ],
   "source": [
    "# axis = 0 : columns\n",
    "print(M.min(axis = 0))\n",
    "print(M.max(axis = 0))"
   ]
  },
  {
   "cell_type": "code",
   "execution_count": 324,
   "id": "ab85a51d-bfde-44c1-a5b5-13e67e116c48",
   "metadata": {},
   "outputs": [
    {
     "name": "stdout",
     "output_type": "stream",
     "text": [
      "[0 2 1]\n",
      "[8 7 8]\n"
     ]
    }
   ],
   "source": [
    "# axis = 1 : rows\n",
    "print(M.min(axis = 1))\n",
    "print(M.max(axis = 1))"
   ]
  },
  {
   "cell_type": "markdown",
   "id": "cea9ede2-dbef-443d-96bd-a763a61346b0",
   "metadata": {},
   "source": [
    "Another way to think about it is that the `axis` keyword specifies the dimension that will be *collapsed*, rather than the dimension that will be returned."
   ]
  },
  {
   "cell_type": "markdown",
   "id": "8eede523-727d-4ff4-92ce-ea74659d00a3",
   "metadata": {
    "jp-MarkdownHeadingCollapsed": true
   },
   "source": [
    "## 7.4 Other Aggregation Functions\n",
    "---"
   ]
  },
  {
   "cell_type": "markdown",
   "id": "01633784-244e-4bb4-89df-f86969cd815d",
   "metadata": {},
   "source": [
    "|Function name|NaN-safe version|Description|\n",
    "|-------------|----------------|------------|\n",
    "|np.sum|np.nansum|Compute sum of elements|\n",
    "|np.prod|np.nanprod|Compute product of elements|\n",
    "|np.mean|np.nanmean|Compute mean of elements|\n",
    "|np.std|np.nanstd|Compute standard deviation|\n",
    "|np.var|np.nanvar|Compute variance|\n",
    "|np.min|np.nanmin|Find minimum value|\n",
    "|np.max|np.nanmax|Find maximum value|\n",
    "|np.argmin|np.nanargmin|Find index of minimum value|"
   ]
  }
 ],
 "metadata": {
  "kernelspec": {
   "display_name": "Python 3 (ipykernel)",
   "language": "python",
   "name": "python3"
  },
  "language_info": {
   "codemirror_mode": {
    "name": "ipython",
    "version": 3
   },
   "file_extension": ".py",
   "mimetype": "text/x-python",
   "name": "python",
   "nbconvert_exporter": "python",
   "pygments_lexer": "ipython3",
   "version": "3.10.15"
  }
 },
 "nbformat": 4,
 "nbformat_minor": 5
}
