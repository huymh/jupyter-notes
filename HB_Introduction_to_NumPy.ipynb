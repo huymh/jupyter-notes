{
 "cells": [
  {
   "cell_type": "markdown",
   "id": "b6d7936d-0a56-4d69-ad54-e7991b8a0fa9",
   "metadata": {},
   "source": [
    "# Chapter 4. Understanding Data Types in Python"
   ]
  },
  {
   "cell_type": "markdown",
   "id": "49571048-f2e4-4738-8caa-81113e24a576",
   "metadata": {},
   "source": [
    "## A Python Integer is More Than Just an Integer\n",
    "---"
   ]
  },
  {
   "cell_type": "markdown",
   "id": "9f093452-8c96-4164-83ea-64ce7c7fcf4c",
   "metadata": {},
   "source": [
    "The standard Python implementation is written in C. This measn that every Python object is a cleverly disguised C structure. When we define an integer in Python, such as `x = 1000`, `x` is not just a \"raw\" integer. It's actually a pointer to a compound C structure containing several values."
   ]
  },
  {
   "cell_type": "markdown",
   "id": "e7d45eda-4563-4fb5-9cf0-aac6e311624a",
   "metadata": {},
   "source": [
    "A single integer in Python contains 4 pieces:\n",
    "- `ob_refcnt`\n",
    "  : a reference count that helps Python silently handle memory allocation and deallocation\n",
    "- `ob_type`\n",
    "  : encodes the type of the variable\n",
    "- `ob_size`\n",
    "  : specifies the size of the following data members\n",
    "- `ob digit`\n",
    "  : contains the actual integer value that we expect the Python variable to represent\n"
   ]
  },
  {
   "cell_type": "markdown",
   "id": "8bf48b5c-940f-4282-8544-e2cb66165567",
   "metadata": {},
   "source": [
    "## A Python List is More Than Just a List\n",
    "---"
   ]
  },
  {
   "cell_type": "markdown",
   "id": "67c0e1f1-ccf0-4548-aef5-40fb69c98749",
   "metadata": {},
   "source": [
    "Let's consider what happens when we use a Python data structure that holds many Python objects. The standard mutable multi-element container in Python is the list."
   ]
  },
  {
   "cell_type": "code",
   "execution_count": 1,
   "id": "894aad34-f8f1-4029-9750-ca57bac40dae",
   "metadata": {},
   "outputs": [
    {
     "name": "stdout",
     "output_type": "stream",
     "text": [
      "L =  [0, 1, 2, 3, 4, 5, 6, 7, 8, 9] \n",
      " <class 'int'>\n",
      "\n",
      "L2 =  ['0', '1', '2', '3', '4', '5', '6', '7', '8', '9'] \n",
      " <class 'str'>\n"
     ]
    }
   ],
   "source": [
    "L = list(range(10))\n",
    "L2 = [str(c) for c in L]\n",
    "print('L = ', L, '\\n', type(L[0]))\n",
    "print('\\nL2 = ', L2, \"\\n\", type(L2[0]))"
   ]
  },
  {
   "cell_type": "markdown",
   "id": "cbf3e483-a0e4-4ac5-b462-d5a650bdaff7",
   "metadata": {},
   "source": [
    "Because of Python's dynamic typing, we can create heterogenous lists."
   ]
  },
  {
   "cell_type": "code",
   "execution_count": 2,
   "id": "e16167c9-6440-4de9-8e71-ebb04d409090",
   "metadata": {},
   "outputs": [
    {
     "data": {
      "text/plain": [
       "[bool, str, float, int]"
      ]
     },
     "execution_count": 2,
     "metadata": {},
     "output_type": "execute_result"
    }
   ],
   "source": [
    "L3 = [True, '2', 3.0, 4]\n",
    "[type(item) for item in L3]"
   ]
  },
  {
   "cell_type": "markdown",
   "id": "15b080a4-8027-4696-9642-cc6e8475f521",
   "metadata": {},
   "source": [
    "Flexibility comes at a cost: to allow flexible types, each item in the list must contain its own type, reference count, and other info. In the case that all variables are of the same type, much of this info is redundant. It can be much more **efficient** to store the data in a fixed-type array. The array contains a single pointer to one contiguous block of data. The Python list, on the other hand, contains a pointer to a block of pointers, each of which in turn points to a full Python object. The advantage of a list is that it can be filled with data of any desired type. Fixed-type **NumPy**-style arrays lack this flexibility, but are much more efficient for storing and manipulating data."
   ]
  },
  {
   "cell_type": "markdown",
   "id": "e43f0119-4c0d-4be1-9fe7-74edf3444db9",
   "metadata": {},
   "source": [
    "## Creating Arrays from Python Lists\n",
    "---"
   ]
  },
  {
   "cell_type": "markdown",
   "id": "c6b2b256-9f9d-4f6e-a2ca-2e4888cfd0c7",
   "metadata": {},
   "source": [
    "We'll start with the standard NumPy import, under the alias `np`."
   ]
  },
  {
   "cell_type": "code",
   "execution_count": 3,
   "id": "5f609340-f712-480e-b966-171035346971",
   "metadata": {},
   "outputs": [],
   "source": [
    "import numpy as np"
   ]
  },
  {
   "cell_type": "markdown",
   "id": "1d492994-1a25-4313-a157-8a90fdb8b36b",
   "metadata": {},
   "source": [
    "We can use `np.array` to create arrays from Python lists."
   ]
  },
  {
   "cell_type": "code",
   "execution_count": 4,
   "id": "5f169c38-8868-4c14-a7e3-7730528ea696",
   "metadata": {},
   "outputs": [
    {
     "data": {
      "text/plain": [
       "array([1, 2, 3, 4, 5])"
      ]
     },
     "execution_count": 4,
     "metadata": {},
     "output_type": "execute_result"
    }
   ],
   "source": [
    "# Integer array\n",
    "np.array([1, 2, 3, 4, 5])"
   ]
  },
  {
   "cell_type": "markdown",
   "id": "283af58e-bad0-4f57-ab64-6eefbfe7ae69",
   "metadata": {},
   "source": [
    "NumPy arrays can only contain data of the same type. If the types do not match, NumPy will **upcast* them according to its type promotion rules; here, integers are upcast to floating point."
   ]
  },
  {
   "cell_type": "code",
   "execution_count": 5,
   "id": "a073120e-1572-4dce-9c0d-12e3a806d079",
   "metadata": {},
   "outputs": [
    {
     "data": {
      "text/plain": [
       "array([3.14, 1.  , 2.  , 3.  ])"
      ]
     },
     "execution_count": 5,
     "metadata": {},
     "output_type": "execute_result"
    }
   ],
   "source": [
    "np.array([3.14, 1, 2, 3])"
   ]
  },
  {
   "cell_type": "markdown",
   "id": "0b306d00-371f-4959-9784-d04e821b138f",
   "metadata": {},
   "source": [
    "Use `dtype` to explicitly set the data type of the resulting array"
   ]
  },
  {
   "cell_type": "code",
   "execution_count": 6,
   "id": "e70126d3-8733-46cf-ab03-40f2cbbb068f",
   "metadata": {},
   "outputs": [
    {
     "data": {
      "text/plain": [
       "array([1., 2., 3., 4.], dtype=float32)"
      ]
     },
     "execution_count": 6,
     "metadata": {},
     "output_type": "execute_result"
    }
   ],
   "source": [
    "np.array([1, 2, 3, 4], dtype = np.float32)"
   ]
  },
  {
   "cell_type": "markdown",
   "id": "915b4c48-bd37-4aad-bd84-f4f077d6807c",
   "metadata": {},
   "source": [
    "NumPy arrays can be multidimensional. Here's one way of initializing a multidimensional array using a list of lists."
   ]
  },
  {
   "cell_type": "code",
   "execution_count": 7,
   "id": "4dd41e15-91bc-4e15-a1e4-0b91331760a8",
   "metadata": {},
   "outputs": [
    {
     "data": {
      "text/plain": [
       "array([[1, 2, 3],\n",
       "       [2, 3, 4],\n",
       "       [3, 4, 5]])"
      ]
     },
     "execution_count": 7,
     "metadata": {},
     "output_type": "execute_result"
    }
   ],
   "source": [
    "# Nested lists resulting in multidimensional arrays\n",
    "np.array([range(i, i + 3) for i in [1, 2, 3]])"
   ]
  },
  {
   "cell_type": "markdown",
   "id": "92fd1cbf-6509-4c51-bfc1-9d1ea5c040a6",
   "metadata": {},
   "source": [
    "## Creating Arrays from Scratch\n",
    "---"
   ]
  },
  {
   "cell_type": "markdown",
   "id": "baa6772d-6573-47aa-a3bf-cfd92ba33d58",
   "metadata": {},
   "source": [
    "Especially for larger arrays, it is more efficient to create arrays from scratch using routines built into NumPy."
   ]
  },
  {
   "cell_type": "code",
   "execution_count": 12,
   "id": "2e4bdbde-abfa-4786-8da2-2d0228726be5",
   "metadata": {},
   "outputs": [
    {
     "data": {
      "text/plain": [
       "array([0, 0, 0, 0, 0, 0, 0, 0, 0, 0])"
      ]
     },
     "execution_count": 12,
     "metadata": {},
     "output_type": "execute_result"
    }
   ],
   "source": [
    "# Create a length-10 integer array filled with 0s\n",
    "np.zeros(10, dtype = int)"
   ]
  },
  {
   "cell_type": "code",
   "execution_count": 13,
   "id": "9b1f0d23-07e8-4b47-a732-5c81019f10c1",
   "metadata": {},
   "outputs": [
    {
     "data": {
      "text/plain": [
       "array([[1., 1., 1., 1., 1.],\n",
       "       [1., 1., 1., 1., 1.],\n",
       "       [1., 1., 1., 1., 1.]])"
      ]
     },
     "execution_count": 13,
     "metadata": {},
     "output_type": "execute_result"
    }
   ],
   "source": [
    "# Create a 3x5 floating-point array filled with 1s\n",
    "np.ones((3,5), dtype = float)"
   ]
  },
  {
   "cell_type": "code",
   "execution_count": 14,
   "id": "a7bf074b-50df-4578-8c37-e494fc637236",
   "metadata": {},
   "outputs": [
    {
     "data": {
      "text/plain": [
       "array([[3.14, 3.14, 3.14, 3.14, 3.14],\n",
       "       [3.14, 3.14, 3.14, 3.14, 3.14],\n",
       "       [3.14, 3.14, 3.14, 3.14, 3.14]])"
      ]
     },
     "execution_count": 14,
     "metadata": {},
     "output_type": "execute_result"
    }
   ],
   "source": [
    "# Create a 3x5 floating point array filled with 3.14\n",
    "np.full((3,5), 3.14)"
   ]
  },
  {
   "cell_type": "code",
   "execution_count": 16,
   "id": "2f717f0f-196a-4a95-86ff-f3935e4d4a8a",
   "metadata": {},
   "outputs": [
    {
     "data": {
      "text/plain": [
       "array([ 0,  2,  4,  6,  8, 10, 12, 14, 16, 18])"
      ]
     },
     "execution_count": 16,
     "metadata": {},
     "output_type": "execute_result"
    }
   ],
   "source": [
    "# Create an array filled with a linear sequence starting at 0, ending at 20, stepping by 2\n",
    "np.arange(0, 20, 2)"
   ]
  },
  {
   "cell_type": "code",
   "execution_count": 17,
   "id": "d03af623-604d-4e25-8eb6-a10aa3b3f8f8",
   "metadata": {},
   "outputs": [
    {
     "data": {
      "text/plain": [
       "array([0.  , 0.25, 0.5 , 0.75, 1.  ])"
      ]
     },
     "execution_count": 17,
     "metadata": {},
     "output_type": "execute_result"
    }
   ],
   "source": [
    "# Create an array of five values evenly spaced between 0 and 1\n",
    "np.linspace(0, 1, 5)"
   ]
  },
  {
   "cell_type": "code",
   "execution_count": 18,
   "id": "64991487-582f-415e-915f-c49268948856",
   "metadata": {},
   "outputs": [
    {
     "data": {
      "text/plain": [
       "array([[0.67230287, 0.87408131, 0.90666851],\n",
       "       [0.59439528, 0.15295102, 0.48039788],\n",
       "       [0.23361915, 0.24837909, 0.19367176]])"
      ]
     },
     "execution_count": 18,
     "metadata": {},
     "output_type": "execute_result"
    }
   ],
   "source": [
    "# Create a 3x3 array of uniformly distributed pseudorandom values between 0 and 1\n",
    "np.random.random((3,3))"
   ]
  },
  {
   "cell_type": "code",
   "execution_count": 19,
   "id": "79d15a02-e711-46ff-866b-c8c063847df4",
   "metadata": {},
   "outputs": [
    {
     "data": {
      "text/plain": [
       "array([[-0.04157178,  0.04911098, -0.13414949],\n",
       "       [-0.4704755 ,  0.29945024,  0.6916425 ],\n",
       "       [-0.56272128, -0.4854479 , -1.7880196 ]])"
      ]
     },
     "execution_count": 19,
     "metadata": {},
     "output_type": "execute_result"
    }
   ],
   "source": [
    "# Create a 3x3 array of normally distributed pseudorandom values with mean 0 and standard deviation 1\n",
    "np.random.normal(0, 1, (3,3))"
   ]
  },
  {
   "cell_type": "code",
   "execution_count": 22,
   "id": "68fa35b4-0451-4359-ba1a-af9fa25cf601",
   "metadata": {},
   "outputs": [
    {
     "data": {
      "text/plain": [
       "array([[3, 7, 4],\n",
       "       [2, 4, 8],\n",
       "       [1, 4, 9]])"
      ]
     },
     "execution_count": 22,
     "metadata": {},
     "output_type": "execute_result"
    }
   ],
   "source": [
    "# Create a 3x3 array of pseudorandom integers in the interval [0,10)\n",
    "np.random.randint(0, 10, (3,3))"
   ]
  },
  {
   "cell_type": "code",
   "execution_count": 23,
   "id": "651fb51d-30ca-44a8-aefe-bbfd00c617db",
   "metadata": {},
   "outputs": [
    {
     "data": {
      "text/plain": [
       "array([[1., 0., 0.],\n",
       "       [0., 1., 0.],\n",
       "       [0., 0., 1.]])"
      ]
     },
     "execution_count": 23,
     "metadata": {},
     "output_type": "execute_result"
    }
   ],
   "source": [
    "# Create a 3x3 identity matrix\n",
    "np.eye(3)"
   ]
  },
  {
   "cell_type": "code",
   "execution_count": 24,
   "id": "580c8ac4-c6bb-413b-8fc2-bd9083543000",
   "metadata": {},
   "outputs": [
    {
     "data": {
      "text/plain": [
       "array([1., 1., 1.])"
      ]
     },
     "execution_count": 24,
     "metadata": {},
     "output_type": "execute_result"
    }
   ],
   "source": [
    "# Create an uninitialized array of three integers; the values will be whatever happens to already exist at the memory location\n",
    "np.empty(3)"
   ]
  },
  {
   "cell_type": "markdown",
   "id": "d1961c66-4ebf-452b-a3f8-27423a325eb9",
   "metadata": {},
   "source": [
    "## NumPy Standard Data Types\n",
    "---"
   ]
  },
  {
   "cell_type": "markdown",
   "id": "aee45ae2-ce81-4566-9137-60f3420ff5b3",
   "metadata": {},
   "source": [
    "Note that when constructing an array, the standard NumPy data types can be specified using a string:\n",
    "```\n",
    "np.zeros(10, dtype='int16')\n",
    "```\n",
    "Or using the associated NumPy object:\n",
    "```\n",
    "np.zeros(10, dtype=np.int16)\n",
    "```"
   ]
  },
  {
   "cell_type": "markdown",
   "id": "8a101905-b3d8-4bf4-8506-8bb0fbbfc0c4",
   "metadata": {},
   "source": [
    "A table of Standard NumPy data types:\n",
    "|Data type |Description|\n",
    "|----------|-----------|\n",
    "|bool_|Boolean(t/f) stored as a byte|\n",
    "|int_|Default integer type (same as C; normally either int32 or int64|\n",
    "|intc|Identical to C int (normally int32 or int64)|\n",
    "|intp|Integer used for indexing (same as C `ssize_t`; normally either int32 or int64)|\n",
    "|int8|Byte (-128 to 127)|\n",
    "|int16|Integer (-32768 to 32767)|\n",
    "|int32|Integer (–2147483648 to 2147483647)|\n",
    "|int64|Integer (–9223372036854775808 to 9223372036854775807)|\n",
    "|uint8|Unsigned integer (0 to 255)|\n",
    "|uint16|Unsigned integer (0 to 65535)|\n",
    "|uint32|Unsigned integer (0 to 4294967295)|\n",
    "|uint64|Unsigned integer (0 to 18446744073709551615)|\n",
    "|float_|Shorthand for `float_64`|\n",
    "|float16|Half-precision float: sign bit, 5 bits exponent, 10 bits mantissa|\n",
    "|float32|float32 Single-precision float: sign bit, 8 bits exponent, 23 bits mantissa|\n",
    "|float64|Double-precision float: sign bit, 11 bits exponent, 52 bits mantissa|\n",
    "|complex_|Shorthand for `complex128`|\n",
    "|complex64|Complex number, represented by two 32-bit floats|\n",
    "|complex128|Complex number, represented by two 64-bit floats|"
   ]
  }
 ],
 "metadata": {
  "kernelspec": {
   "display_name": "Python 3 (ipykernel)",
   "language": "python",
   "name": "python3"
  },
  "language_info": {
   "codemirror_mode": {
    "name": "ipython",
    "version": 3
   },
   "file_extension": ".py",
   "mimetype": "text/x-python",
   "name": "python",
   "nbconvert_exporter": "python",
   "pygments_lexer": "ipython3",
   "version": "3.10.15"
  }
 },
 "nbformat": 4,
 "nbformat_minor": 5
}
