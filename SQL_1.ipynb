{
 "cells": [
  {
   "cell_type": "markdown",
   "id": "5cb96416-4023-4302-91dc-e3ef771e7f55",
   "metadata": {
    "jp-MarkdownHeadingCollapsed": true
   },
   "source": [
    "# Chapter 1 : Creating Your First Database and Table"
   ]
  },
  {
   "cell_type": "markdown",
   "id": "d7e5ad95-99c6-403b-aebe-192dbdab1364",
   "metadata": {},
   "source": [
    "We use SQL to define the structure of a table and how each table might relate to other tables in a database. We use SQL to extract, or *query* from tables."
   ]
  },
  {
   "cell_type": "markdown",
   "id": "c2d7de1f-8121-4dd5-84a9-09f90d970ee4",
   "metadata": {},
   "source": [
    "Understanding tables is fundamental to understanding the data in your database. When working with a fresh database, look at the tables within. Look for clues in the table names and their column structure. Do the tables contain text, numbers, or both? How many rows are in each table? Look at how many tables are in the database."
   ]
  },
  {
   "cell_type": "markdown",
   "id": "25513034-3b56-451a-9098-9d63cb1b84c8",
   "metadata": {},
   "source": [
    "## 1.1 Creating a Database\n",
    "---"
   ]
  },
  {
   "cell_type": "markdown",
   "id": "8025e508-c1a6-42b2-b931-24371e1de3e4",
   "metadata": {},
   "source": [
    "PostgreSQL is a *database management system* which allows you to define, manage, and query databases. When you install PostgreSQL, it creates a *database server*, an instance of the application running on your computer, that includes a default database called `postgres`. The database is a collection of objects that includes tables, functions, user roles, and much more.\n",
    "\n",
    "We will be leaving this default database and create a new one. We'll do this to keep objects related to a particular topic or application organized together."
   ]
  },
  {
   "cell_type": "markdown",
   "id": "ae802434-d07a-4749-afc8-cdb8ecc85b45",
   "metadata": {},
   "source": [
    "To create a database, use the keywords `CREATE` and `DATABASE`:\n",
    "```\n",
    "CREATE DATABASE analysis;\n",
    "```\n",
    "This creates a database named `analysis` using default PostgreSQL settings. The semicolon `;` ends all PostgreSQL statements and is part of the ANSI SQL standard."
   ]
  },
  {
   "cell_type": "markdown",
   "id": "e6715357-4a23-46b1-9504-ff4ca52267bb",
   "metadata": {},
   "source": [
    "## 1.2 Creating a Table\n",
    "---"
   ]
  },
  {
   "cell_type": "markdown",
   "id": "95c7f500-8d5d-4fab-ab2b-3b177f56675d",
   "metadata": {},
   "source": [
    "Let's take a look at the `CREATE TABLE` statement. The following table definition is far from comprehensive. It's missing several constraints that would ensure that columns must be filled do indeed have data or that we've not inadvertently entering duplicate values. These are omitted for now to focus on getting started:\n",
    "```\n",
    "CREATE TABLE teachers (             -- 1\n",
    "    id bigserial,                   -- 2\n",
    "    first_name varchar(25),         -- 3\n",
    "    last_name varchar(50),          \n",
    "    school varchar(50),             \n",
    "    hire_date date,                 -- 4\n",
    "    salary numeric                  -- 5\n",
    ");                                  -- 6\n",
    "```"
   ]
  },
  {
   "cell_type": "markdown",
   "id": "1d08aa91-c11c-48b8-9dbd-17a8c9148794",
   "metadata": {},
   "source": [
    "#1 has two keywords `CREATE` AND `TABLE` along with the name `teachers`. Following is an open parenthesis and a comma-separated list of *column names* along with their data types.\n",
    "\n",
    "#2 defines the `id` column with the datatype `bigserial` which is a special integer type that auto-increments every time you add a row to the table. The first row receives the value of 1 in the `id` column, the second 2, and so on. This is ***PostgreSQL specific***, but most database systems have a similar feature.\n",
    "\n",
    "#3 creates columns for a teacher's first name, last name, the school where they teach. Each of these is of type `varchar`, a text column with a maximum length specified by the number in the parentheses.\n",
    "\n",
    "#4 has data type `date` and #5 has data type `numeric` which will be covered in Chapter 3.\n",
    "\n",
    "#6 wraps up the code block with the closing parenthesis and a semicolon."
   ]
  },
  {
   "cell_type": "markdown",
   "id": "6be2bd32-3193-457c-b0b6-0af317cfb687",
   "metadata": {},
   "source": [
    "## 1.3 Inserting Rows into a Table\n",
    "---"
   ]
  },
  {
   "cell_type": "markdown",
   "id": "d4a7bf29-e879-49ed-8458-cb676b353356",
   "metadata": {},
   "source": [
    "To insert, make sure the query tool is empty. Then we can use the `INSERT` keyword.\n",
    "```\n",
    "INSERT INTO teachers (first_name, last_name, school, hire_date, salary)        -- 1\n",
    "VALUES ('Janet', 'Smith', 'F.D. Roosevelt HS', '2011-10-30', 36200),           -- 2\n",
    "       ('Lee', 'Reynolds', 'F.D. Roosevelt HS', '1993-05-22', 65000),\n",
    "       ('Samuel', 'Cole', 'Myers Middle School', '2005-08-01', 43500),\n",
    "       ('Samantha', 'Bush', 'Myers Middle School', '2011-10-30', 36200),\n",
    "       ('Betty', 'Diaz', 'Myers Middle School', '2005-08-30', 43500),\n",
    "       ('Kathleen', 'Roush', 'F.D. Roosevelt HS', '2010-10-22', 38500);        -- 3\n",
    "```"
   ]
  },
  {
   "cell_type": "markdown",
   "id": "10e08b55-f706-47d6-a8b6-386644e014a5",
   "metadata": {},
   "source": [
    "This block code example inserts names and data for six teachers. \n",
    "\n",
    "#1 : Here, the PostgreSQL follows the ANSI SQL standard: after the `INSERT` `INTO` keywords is the name of the table, and in the parentheses are the columns to be filled.\n",
    "\n",
    "#2 : The `VALUES` keyword and the data are inserted into each column in each row. You need to enclose the data for each row in a set of parentheses, and inside each set of parentheses , use a comma to separate each column value. The order of the values must match the order of the columns specified after the table name. Each row of data ends with a comma.\n",
    "\n",
    "#3 : The last row ends the entire statement with a semicolon."
   ]
  },
  {
   "cell_type": "markdown",
   "id": "0d921259-0cce-4b40-b8cb-b4362808dc95",
   "metadata": {},
   "source": [
    "Note, text and dates require quotes while numbers such as integers and decimals do not. There is no data inserted for the `id` column because it is (recall) of data type `bigserial` which will automatically fill the `id` column with an auto-increasing integer."
   ]
  },
  {
   "cell_type": "markdown",
   "id": "2f107025-5cb3-4588-a37c-424d167b422e",
   "metadata": {},
   "source": [
    "## 1.4 Formatting SQL for Readability\n",
    "---"
   ]
  },
  {
   "cell_type": "markdown",
   "id": "ff7ddef4-e2f2-4a42-bad0-d15c1a778230",
   "metadata": {},
   "source": [
    "No special formatting is required to run, but for the sake of readability and being a good coder, it's best to follow these conventions:\n",
    "- **Uppercase SQL keywords** such as `SELECT`.\n",
    "- **Avoid camel case** and instead use `lowercase_and_underscores` for object names, such as tables and column names\n",
    "- **Indent clauses and code blocks** for readability using either two or four spaces (or tabs)."
   ]
  },
  {
   "cell_type": "markdown",
   "id": "bbe28d52-cb85-46b3-9c2c-74f8b0ae9ef6",
   "metadata": {},
   "source": [
    "# Chapter 2 : Beginning Data Exploration with `SELECT`"
   ]
  },
  {
   "cell_type": "markdown",
   "id": "ba5ae0dc-9062-480f-b9c3-58dfe82a4b1a",
   "metadata": {},
   "source": [
    "## 2.1 Basic `SELECT` Syntax\n",
    "---"
   ]
  },
  {
   "cell_type": "markdown",
   "id": "9ba6d6c8-942b-4273-99bb-24f7c12d4da1",
   "metadata": {},
   "source": [
    "## 2.2 Sorting Data with `ORDER BY`\n",
    "---"
   ]
  },
  {
   "cell_type": "markdown",
   "id": "3fb2b58d-5fad-45cc-a5f8-892ad4d3e3f7",
   "metadata": {},
   "source": [
    "## 2.3 Filtering Rows with `WHERE`\n",
    "---"
   ]
  },
  {
   "cell_type": "markdown",
   "id": "9d0da9c1-9cdb-4f08-aa84-18ea7a1d8d55",
   "metadata": {},
   "source": [
    "## 2.4 Putting It All Together\n",
    "---"
   ]
  }
 ],
 "metadata": {
  "kernelspec": {
   "display_name": "Python 3 (ipykernel)",
   "language": "python",
   "name": "python3"
  },
  "language_info": {
   "codemirror_mode": {
    "name": "ipython",
    "version": 3
   },
   "file_extension": ".py",
   "mimetype": "text/x-python",
   "name": "python",
   "nbconvert_exporter": "python",
   "pygments_lexer": "ipython3",
   "version": "3.10.15"
  }
 },
 "nbformat": 4,
 "nbformat_minor": 5
}
