{
 "cells": [
  {
   "cell_type": "markdown",
   "id": "5cb96416-4023-4302-91dc-e3ef771e7f55",
   "metadata": {
    "jp-MarkdownHeadingCollapsed": true
   },
   "source": [
    "# Chapter 1 : Creating Your First Database and Table"
   ]
  },
  {
   "cell_type": "markdown",
   "id": "d7e5ad95-99c6-403b-aebe-192dbdab1364",
   "metadata": {},
   "source": [
    "We use SQL to define the structure of a table and how each table might relate to other tables in a database. We use SQL to extract, or *query* from tables."
   ]
  },
  {
   "cell_type": "markdown",
   "id": "c2d7de1f-8121-4dd5-84a9-09f90d970ee4",
   "metadata": {},
   "source": [
    "Understanding tables is fundamental to understanding the data in your database. When working with a fresh database, look at the tables within. Look for clues in the table names and their column structure. Do the tables contain text, numbers, or both? How many rows are in each table? Look at how many tables are in the database."
   ]
  },
  {
   "cell_type": "markdown",
   "id": "25513034-3b56-451a-9098-9d63cb1b84c8",
   "metadata": {},
   "source": [
    "## 1.1 Creating a Database\n",
    "---"
   ]
  },
  {
   "cell_type": "markdown",
   "id": "8025e508-c1a6-42b2-b931-24371e1de3e4",
   "metadata": {},
   "source": [
    "PostgreSQL is a *database management system* which allows you to define, manage, and query databases. When you install PostgreSQL, it creates a *database server*, an instance of the application running on your computer, that includes a default database called `postgres`. The database is a collection of objects that includes tables, functions, user roles, and much more.\n",
    "\n",
    "We will be leaving this default database and create a new one. We'll do this to keep objects related to a particular topic or application organized together."
   ]
  },
  {
   "cell_type": "markdown",
   "id": "ae802434-d07a-4749-afc8-cdb8ecc85b45",
   "metadata": {},
   "source": [
    "To create a database, use the keywords `CREATE` and `DATABASE`:\n",
    "```\n",
    "CREATE DATABASE analysis;\n",
    "```\n",
    "This creates a database named `analysis` using default PostgreSQL settings. The semicolon `;` ends all PostgreSQL statements and is part of the ANSI SQL standard."
   ]
  },
  {
   "cell_type": "markdown",
   "id": "e6715357-4a23-46b1-9504-ff4ca52267bb",
   "metadata": {},
   "source": [
    "## 1.2 Creating a Table\n",
    "---"
   ]
  },
  {
   "cell_type": "markdown",
   "id": "95c7f500-8d5d-4fab-ab2b-3b177f56675d",
   "metadata": {},
   "source": [
    "Let's take a look at the `CREATE TABLE` statement. The following table definition is far from comprehensive. It's missing several constraints that would ensure that columns must be filled do indeed have data or that we've not inadvertently entering duplicate values. These are omitted for now to focus on getting started:\n",
    "```\n",
    "CREATE TABLE teachers (             -- 1\n",
    "    id bigserial,                   -- 2\n",
    "    first_name varchar(25),         -- 3\n",
    "    last_name varchar(50),          \n",
    "    school varchar(50),             \n",
    "    hire_date date,                 -- 4\n",
    "    salary numeric                  -- 5\n",
    ");                                  -- 6\n",
    "```"
   ]
  },
  {
   "cell_type": "markdown",
   "id": "1d08aa91-c11c-48b8-9dbd-17a8c9148794",
   "metadata": {},
   "source": [
    "#1 has two keywords `CREATE` AND `TABLE` along with the name `teachers`. Following is an open parenthesis and a comma-separated list of *column names* along with their data types.\n",
    "\n",
    "#2 defines the `id` column with the datatype `bigserial` which is a special integer type that auto-increments every time you add a row to the table. The first row receives the value of 1 in the `id` column, the second 2, and so on. This is ***PostgreSQL specific***, but most database systems have a similar feature.\n",
    "\n",
    "#3 creates columns for a teacher's first name, last name, the school where they teach. Each of these is of type `varchar`, a text column with a maximum length specified by the number in the parentheses.\n",
    "\n",
    "#4 has data type `date` and #5 has data type `numeric` which will be covered in Chapter 3.\n",
    "\n",
    "#6 wraps up the code block with the closing parenthesis and a semicolon."
   ]
  },
  {
   "cell_type": "markdown",
   "id": "6be2bd32-3193-457c-b0b6-0af317cfb687",
   "metadata": {},
   "source": [
    "## 1.3 Inserting Rows into a Table\n",
    "---"
   ]
  },
  {
   "cell_type": "markdown",
   "id": "d4a7bf29-e879-49ed-8458-cb676b353356",
   "metadata": {},
   "source": [
    "To insert, make sure the query tool is empty. Then we can use the `INSERT` keyword.\n",
    "```\n",
    "INSERT INTO teachers (first_name, last_name, school, hire_date, salary)        -- 1\n",
    "VALUES ('Janet', 'Smith', 'F.D. Roosevelt HS', '2011-10-30', 36200),           -- 2\n",
    "       ('Lee', 'Reynolds', 'F.D. Roosevelt HS', '1993-05-22', 65000),\n",
    "       ('Samuel', 'Cole', 'Myers Middle School', '2005-08-01', 43500),\n",
    "       ('Samantha', 'Bush', 'Myers Middle School', '2011-10-30', 36200),\n",
    "       ('Betty', 'Diaz', 'Myers Middle School', '2005-08-30', 43500),\n",
    "       ('Kathleen', 'Roush', 'F.D. Roosevelt HS', '2010-10-22', 38500);        -- 3\n",
    "```"
   ]
  },
  {
   "cell_type": "markdown",
   "id": "10e08b55-f706-47d6-a8b6-386644e014a5",
   "metadata": {},
   "source": [
    "This block code example inserts names and data for six teachers. \n",
    "\n",
    "#1 : Here, the PostgreSQL follows the ANSI SQL standard: after the `INSERT` `INTO` keywords is the name of the table, and in the parentheses are the columns to be filled.\n",
    "\n",
    "#2 : The `VALUES` keyword and the data are inserted into each column in each row. You need to enclose the data for each row in a set of parentheses, and inside each set of parentheses , use a comma to separate each column value. The order of the values must match the order of the columns specified after the table name. Each row of data ends with a comma.\n",
    "\n",
    "#3 : The last row ends the entire statement with a semicolon."
   ]
  },
  {
   "cell_type": "markdown",
   "id": "0d921259-0cce-4b40-b8cb-b4362808dc95",
   "metadata": {},
   "source": [
    "Note, text and dates require quotes while numbers such as integers and decimals do not. There is no data inserted for the `id` column because it is (recall) of data type `bigserial` which will automatically fill the `id` column with an auto-increasing integer."
   ]
  },
  {
   "cell_type": "markdown",
   "id": "2f107025-5cb3-4588-a37c-424d167b422e",
   "metadata": {},
   "source": [
    "## 1.4 Formatting SQL for Readability\n",
    "---"
   ]
  },
  {
   "cell_type": "markdown",
   "id": "ff7ddef4-e2f2-4a42-bad0-d15c1a778230",
   "metadata": {},
   "source": [
    "No special formatting is required to run, but for the sake of readability and being a good coder, it's best to follow these conventions:\n",
    "- **Uppercase SQL keywords** such as `SELECT`.\n",
    "- **Avoid camel case** and instead use `lowercase_and_underscores` for object names, such as tables and column names\n",
    "- **Indent clauses and code blocks** for readability using either two or four spaces (or tabs)."
   ]
  },
  {
   "cell_type": "markdown",
   "id": "bbe28d52-cb85-46b3-9c2c-74f8b0ae9ef6",
   "metadata": {
    "jp-MarkdownHeadingCollapsed": true
   },
   "source": [
    "# Chapter 2 : Beginning Data Exploration with `SELECT`"
   ]
  },
  {
   "cell_type": "markdown",
   "id": "ba5ae0dc-9062-480f-b9c3-58dfe82a4b1a",
   "metadata": {},
   "source": [
    "## 2.1 Basic `SELECT` Syntax\n",
    "---"
   ]
  },
  {
   "cell_type": "markdown",
   "id": "c5c2f654-b77a-43e0-8a3a-28946238ef98",
   "metadata": {},
   "source": [
    "Here's a `SELECT` statement that fetches every row and collumn in a table called `my_table`.\n",
    "```\n",
    "SELECT *\n",
    "FROM my_table;\n",
    "```"
   ]
  },
  {
   "cell_type": "markdown",
   "id": "f17146dc-fd95-487e-9b1e-aa8ba0d0d4c0",
   "metadata": {},
   "source": [
    "The `*` following `SELECT` is called a ***wildcard***. A wildcard is like a stand-in value: it doesn't represent anything in particular and represents everything that value could possibly be. Here, it is a shorthand for \"all columns.\" If you had given a column name instead of the wildcard, the command would select values in that column.\n",
    "\n",
    "The keyword `FROM` indicates you want the query to return data from a particular table."
   ]
  },
  {
   "cell_type": "markdown",
   "id": "2d987ff4-5153-4c45-8c03-cad1848fe249",
   "metadata": {},
   "source": [
    "## Querying a Subset of Columns"
   ]
  },
  {
   "cell_type": "markdown",
   "id": "b6c3b9f7-bd02-4373-8b97-a5d79332bf72",
   "metadata": {},
   "source": [
    "It is often more practical to limit the columns the query retrieves, especially with large databases. Do this by naming columns, separated by commas, after the `SELECT` keyword. For example:\n",
    "```\n",
    "SELECT some_column, another_column, other_column\n",
    "FROM table_name;\n",
    "```\n",
    "The order that you list the columns will be the order they appear in the query.\n",
    "\n",
    "This illustrates a good strategy for beginning your interview of a data set. It's wise to start your analysis by checking whether your data is present and in the format you expect. Are dates in a complete month-date-year format, or are they entered as text with month and year only? Does every row have a value? Are there mysteriously no last names starting with letters beyond \"M\"? All these issues indicate potential hazards ranging from missing data to shoddy recordkeeping somewhere in the workflow."
   ]
  },
  {
   "cell_type": "markdown",
   "id": "e1a07b05-ebd4-45bf-92e4-d89e991ebae8",
   "metadata": {},
   "source": [
    "## Using `DISTINCT` to Find Unique Values"
   ]
  },
  {
   "cell_type": "markdown",
   "id": "d745c9f0-48f9-4057-a289-a94177c3f840",
   "metadata": {},
   "source": [
    "It's not unusual for a column to contain rows with duplicate values. To understand the range of values in a column, we can use the `DISTINCT` keyword as part of a query that eliminates duplicates and only shows unique values. Use the `DISTINCT` keyword right after `SELECT` :\n",
    "```\n",
    "SELECT DISTINCT school\n",
    "FROM teachers;\n",
    "```"
   ]
  },
  {
   "cell_type": "markdown",
   "id": "01397461-2f62-4512-a774-cc78141247c8",
   "metadata": {},
   "source": [
    "The `DISTINCT` keyword also works on more than one column at a time. If we add a column, the query returns each unique pair of values.\n",
    "```\n",
    "SELECT DISTINCT school, salary\n",
    "FROM teachers;\n",
    "```\n",
    "This would return each distinct salary earned at each school. If you enter this, you can see that it only returned 5 rows. This is because there are two teachers at Myers Middle School that earn $43,500."
   ]
  },
  {
   "cell_type": "markdown",
   "id": "4c37afc2-c6ce-4aaa-8996-c71a220653c5",
   "metadata": {},
   "source": [
    "This technique gives us the ability to ask, \"For each $x$ in the table, what are all the $y$ values?\" "
   ]
  },
  {
   "cell_type": "markdown",
   "id": "9ba6d6c8-942b-4273-99bb-24f7c12d4da1",
   "metadata": {},
   "source": [
    "## 2.2 Sorting Data with `ORDER BY`\n",
    "---"
   ]
  },
  {
   "cell_type": "markdown",
   "id": "24e3bf46-67da-4116-b247-edd4d7b7c864",
   "metadata": {},
   "source": [
    "Patterns are more easily revealed when data is arranged in order. We order results by using a clause containing the keywords `ORDER BY` followed by the column or columns to sort. Applying this clause doesn't change the original table, only the result of the query.\n",
    "```\n",
    "SELECT first_name, last_name, salary\n",
    "FROM teachers\n",
    "ORDER BY salary DESC;\n",
    "```"
   ]
  },
  {
   "cell_type": "markdown",
   "id": "1414a838-47bf-43ee-acc5-62db4cc303de",
   "metadata": {},
   "source": [
    "By default, `ORDER BY` sorts values in *ascending* order, but here it is sorted in descending order using the keyword `DESC`. There is an optional `ASC` keyword for ascending. By ordering `salary` column from highest to lowest, we can see which teachers earn the most."
   ]
  },
  {
   "cell_type": "markdown",
   "id": "90557ba5-c8e0-4c61-9acd-32e47ce936f6",
   "metadata": {},
   "source": [
    "Ordering by numbers is intuitive, but by letters might not be considering captialization and punctuation. \n",
    "\n",
    "During PostgreSQL installation, the server is assigned a particular *locale* for *collation*, or odering of text, as well as a *character set*. Both are based either on settings in the computer's operatin system or custom options supplied during installation.\n",
    "\n",
    "Based on UTF-8, PostgreSQL sorts characters in this order:\n",
    "1. Punctuation marks, including quotes, parentheses, and math operators\n",
    "2. Numbers 0 - 9\n",
    "3. Additional punctuation, including the question mark\n",
    "4. Capital letters from A - Z\n",
    "5. More punctuation, including brackets and underscore\n",
    "6. Lowercase letters a - z\n",
    "7. Additional punctuation, special characters, and the extended alphabet"
   ]
  },
  {
   "cell_type": "markdown",
   "id": "29b52f95-570a-4cde-b45d-f57624b62311",
   "metadata": {},
   "source": [
    "We can order multiple columns as well:\n",
    "```\n",
    "SELECT last_name, school, hire_date\n",
    "FROM teachers\n",
    "ORDER BY school ASC, hire_date DESC;\n",
    "```\n",
    "By sorting the `school` column in ascending ordr and `hire_date` in descending order, we create a listing of teachers grouped by school with the most recently hired teachers listed first. This can show us who the nearest teachers are at each school."
   ]
  },
  {
   "cell_type": "markdown",
   "id": "3fb2b58d-5fad-45cc-a5f8-892ad4d3e3f7",
   "metadata": {},
   "source": [
    "## 2.3 Filtering Rows with `WHERE`\n",
    "---"
   ]
  },
  {
   "cell_type": "markdown",
   "id": "155ca2ea-9846-43a1-96d2-6411dde8e20a",
   "metadata": {},
   "source": [
    "Sometimes you'll want to limit the rows a query returns to only those in which one or more columns meet cdrtain criteria. Use the `WHERE` clause which should follow the `FROM` clause.\n",
    "```\n",
    "SELECT last_name, school, hire_date\n",
    "FROM teachers\n",
    "WHERE school = 'Myers Middle School';\n",
    "```\n",
    "The result should show just the teachers assigned to Myers Middle School."
   ]
  },
  {
   "cell_type": "markdown",
   "id": "fbddf385-8653-4144-a0e7-2091487e3d15",
   "metadata": {},
   "source": [
    "|Operator|Function|Example|\n",
    "|--------|--------|-------|\n",
    "|=|Equal to|WHERE school = 'Baker Middle'|\n",
    "|<> or !=|Not equal to*|WHERE school <> 'Baker Middle'|\n",
    "|>|Greater than|WHERE salary > 20000|\n",
    "|<|Less than|WHERE salary < 60500|\n",
    "|>=|Greater than or equal to|WHERE salary >= 20000|\n",
    "|<=|Less than or equal to|WHERE salary <= 60500|\n",
    "|BETWEEN|Within a range|WHERE salary BETWEEN 20000 AND 40000|\n",
    "|IN|Match one of a set of values|WHERE last_name IN ('Bush','Roush')|\n",
    "|LIKE|Match a pattern (case sensitive)|WHERE first_name LIKE 'Sam%'|\n",
    "|ILIKE*|Match a pattern (case insensitive)|WHERE first_name ILIKE 'sam%'|\n",
    "|NOT|Negates a condition|WHERE first_name NOT ILIKE 'sam%'|\n",
    "\n",
    "*The `!=` operator is not part of standard ANSI SQL but is available in PostgreSQL and other database systems\n",
    "\n",
    "*PostgreSQL only"
   ]
  },
  {
   "cell_type": "markdown",
   "id": "1018cd8b-6d7c-49c4-a418-f65c7e67596b",
   "metadata": {},
   "source": [
    "Examples:\n",
    "\n",
    "Using the equals operator to find teachers whose first name is Janet:\n",
    "```\n",
    "SELECT first_name, last_name, school\n",
    "FROM teachers\n",
    "WHERE first_name = 'Janet';\n",
    "```\n",
    "\n",
    "List all school names in the table but exclude F.D. Roosevelt HS using not equal operator:\n",
    "```\n",
    "SELECT school\n",
    "FROM teachers\n",
    "WHERE school <>'F.D. Roosevelt HS';\n",
    "```\n",
    "\n",
    "Using the less than operator to list teachers hired before January 1, 2000 (yyyy-mm-dd):\n",
    "```\n",
    "SELECT first_name, last_name, hire_date\n",
    "FROM teachers\n",
    "WHERE hire_date < '2000-01-01';\n",
    "```\n",
    "\n",
    "Finding teachers who earn $43,500 or more using the greater than or equal to operator:\n",
    "```\n",
    "SELECT first_name, last_name, salary\n",
    "FROM teachers\n",
    "WHERE salary >= 43500;\n",
    "```\n",
    "\n",
    "Finding teachers who earn between $$40,000 and $65,000 inclusive:\n",
    "```\n",
    "SELECT first_name, last_name, salary\n",
    "FROM teachers\n",
    "WHERE salary BETWEEN 40000 AND 65000;\n",
    "```"
   ]
  },
  {
   "cell_type": "markdown",
   "id": "83f5c5e8-3f49-45d6-8856-d2fdc63a6290",
   "metadata": {},
   "source": [
    "## USING `LIKE` and `ILIKE` with `WHERE`"
   ]
  },
  {
   "cell_type": "markdown",
   "id": "582c2d9d-1bac-44eb-975e-efaddc8ee3b4",
   "metadata": {},
   "source": [
    "Both `LIKE` and `ILIKE` let you search for patterns in strings by using two special characters:\n",
    "- **Percent sign (`%`)** : a wildcard matching one or more characters\n",
    "- **Underscore (`_`)** : a wildcard matching just one character"
   ]
  },
  {
   "cell_type": "markdown",
   "id": "7f24b63a-99bf-4163-a27c-c3fb6a9a5325",
   "metadata": {},
   "source": [
    "For instance, if you're trying to find the word `baker`, the lowing `LIKE` patterns will match it:\n",
    "```\n",
    "LIKE 'b%'\n",
    "LIKE '%ak%'\n",
    "LIKE '_aker'\n",
    "LIKE 'ba_er'\n",
    "```"
   ]
  },
  {
   "cell_type": "markdown",
   "id": "268ab4ab-00ee-406a-a6f2-fd3d91e3abe2",
   "metadata": {},
   "source": [
    "`LIKE` which is apart of the ANSI SQL standard, is case sensitive. `ILIKE`, which is a PostgreSQL-only implementation, is case insensitive."
   ]
  },
  {
   "cell_type": "markdown",
   "id": "80183ed7-5030-4946-97e4-6955fe7d618f",
   "metadata": {},
   "source": [
    "The first `WHERE` clause uses `LIKE` and should return zero results since all names are capitalized. The second will return two names since it uses the case insensitive `ILIKE`.\n",
    "```\n",
    "SELECT first_name\n",
    "FROM teachers\n",
    "WHERE first_name LIKE 'sam%';\n",
    "```\n",
    "```\n",
    "SELECT first_name\n",
    "FROM teachers\n",
    "WHERE first_name ILIKE `sam%';\n",
    "```"
   ]
  },
  {
   "cell_type": "markdown",
   "id": "1c40b6e1-07ab-4fb3-90b1-2f5315d2e351",
   "metadata": {},
   "source": [
    "## Combinging Operators with `AND` and `OR` "
   ]
  },
  {
   "cell_type": "markdown",
   "id": "2c5505a8-f883-4716-8864-a2ac69b0b3af",
   "metadata": {},
   "source": [
    "Comparaison operators become even more useful when we combine them using keywords `AND` and `OR` along with parentheses if needed."
   ]
  },
  {
   "cell_type": "markdown",
   "id": "08faa69f-2825-4e91-91fd-fbc83e0128de",
   "metadata": {},
   "source": [
    "Examples:\n",
    "```\n",
    "SELECT *\n",
    "FROM teachers\n",
    "WHERE school = 'Myers Middle School'\n",
    "    AND salary < 40000;\n",
    "```\n",
    "```\n",
    "SELECT *\n",
    "FROM teachers\n",
    "WHERE last_name = 'Cole'\n",
    "    OR last_name = 'Bush';\n",
    "```\n",
    "```\n",
    "SELECT *\n",
    "FROM teachers\n",
    "WHERE school = 'F.D. Roosevelt HS'\n",
    "    AND (salary < 38000 OR salary > 40000);"
   ]
  },
  {
   "cell_type": "markdown",
   "id": "9d0da9c1-9cdb-4f08-aa84-18ea7a1d8d55",
   "metadata": {},
   "source": [
    "## 2.4 Putting It All Together\n",
    "---"
   ]
  },
  {
   "cell_type": "markdown",
   "id": "75525a6e-bb79-4752-aab9-02f600916db2",
   "metadata": {},
   "source": [
    "You can combine comparision operator statements and the `ORDER BY` clause together to rank results. SQL is particular about the ordering of keywords, so follow this convention:\n",
    "```\n",
    "SELECT column_names\n",
    "FROM table_name\n",
    "WHERE criteria\n",
    "ORDER BY column_names;\n",
    "```"
   ]
  },
  {
   "cell_type": "markdown",
   "id": "d3353bc7-f8f8-44a7-9605-8a5471084e79",
   "metadata": {},
   "source": [
    "This query returns teachers at Roosevelt High School, ordered from newest hire to earliest. We can see a clear correlation between a teacher's hire date at the school and his or her current salary level:\n",
    "```\n",
    "SELECT first_name, last_name, school, hire_date, salary\n",
    "FROM TEACHERS\n",
    "WHERE school LIKE '%Roos%'\n",
    "ORDER BY hire_date DESC;\n",
    "```"
   ]
  },
  {
   "cell_type": "markdown",
   "id": "1f72ecce-5552-4c0e-9ec5-bc6c4496b220",
   "metadata": {},
   "source": [
    "# Chapter 3 : Understanding Data Types"
   ]
  },
  {
   "cell_type": "markdown",
   "id": "ddc36f9b-5f52-4d28-a88e-6c1492248952",
   "metadata": {},
   "source": [
    "## 3.1 Characters\n",
    "---"
   ]
  },
  {
   "cell_type": "markdown",
   "id": "b6a595e8-1308-4d04-bff6-a434b89888fa",
   "metadata": {},
   "source": [
    "## 3.2 Numbers\n",
    "---"
   ]
  },
  {
   "cell_type": "markdown",
   "id": "56adbc98-c73b-4420-a920-fe8c9d95deef",
   "metadata": {},
   "source": [
    "### Integers"
   ]
  },
  {
   "cell_type": "markdown",
   "id": "86b91ec1-a1b6-44c0-af8e-197430e5fdaf",
   "metadata": {},
   "source": [
    "### Auto-Incrementing Integers"
   ]
  },
  {
   "cell_type": "markdown",
   "id": "74cc4a50-34ec-4323-8ef0-87d0683b70ea",
   "metadata": {},
   "source": [
    "### Decimal Numbers"
   ]
  },
  {
   "cell_type": "markdown",
   "id": "346d929a-1506-4d4c-b831-c0f62befbb80",
   "metadata": {},
   "source": [
    "#### Fixed-Point Numbers"
   ]
  },
  {
   "cell_type": "markdown",
   "id": "226fc580-b8cd-49e9-ad1d-2fdcc439b515",
   "metadata": {},
   "source": [
    "#### Floating-Point Types"
   ]
  },
  {
   "cell_type": "markdown",
   "id": "e679f1e9-cccd-44bf-8a8b-7f9f2f902c30",
   "metadata": {},
   "source": [
    "#### Using Fixed- and Floating-Point Types"
   ]
  },
  {
   "cell_type": "markdown",
   "id": "667981be-a74b-4bc7-8116-6f6907d6f032",
   "metadata": {},
   "source": [
    "#### Trouble with FLoating-Point Math"
   ]
  },
  {
   "cell_type": "markdown",
   "id": "7731a602-4ed2-4581-910b-9a23981bed05",
   "metadata": {},
   "source": [
    "### Choosing Your Number Data Type"
   ]
  },
  {
   "cell_type": "markdown",
   "id": "6e75f671-250e-4af4-b5ad-be2fea44a620",
   "metadata": {},
   "source": [
    "## 3.3 Dates and Times\n",
    "---"
   ]
  },
  {
   "cell_type": "markdown",
   "id": "243f46ed-79aa-4b50-9936-78e42f97ec7f",
   "metadata": {},
   "source": [
    "### Using the `interval` Data Type  in Calculations"
   ]
  },
  {
   "cell_type": "markdown",
   "id": "83df59c4-e5b8-422c-b9e9-3d6ac53c4eb0",
   "metadata": {},
   "source": [
    "## 3.4 Miscellaneous Types\n",
    "---"
   ]
  },
  {
   "cell_type": "markdown",
   "id": "fc196160-657c-4b6e-a862-88adad85ff2c",
   "metadata": {},
   "source": [
    "## 3.5 Transforming Values from One Type to Another with `CAST`\n",
    "---"
   ]
  },
  {
   "cell_type": "markdown",
   "id": "10e9c9bf-5e8f-4383-9b25-8a7c28d727f7",
   "metadata": {},
   "source": [
    "### `CAST` Shortcut Notation"
   ]
  },
  {
   "cell_type": "code",
   "execution_count": null,
   "id": "1bb1ebe7-f314-4256-bfdc-e9a5b6ed51b1",
   "metadata": {},
   "outputs": [],
   "source": []
  }
 ],
 "metadata": {
  "kernelspec": {
   "display_name": "Python 3 (ipykernel)",
   "language": "python",
   "name": "python3"
  },
  "language_info": {
   "codemirror_mode": {
    "name": "ipython",
    "version": 3
   },
   "file_extension": ".py",
   "mimetype": "text/x-python",
   "name": "python",
   "nbconvert_exporter": "python",
   "pygments_lexer": "ipython3",
   "version": "3.12.7"
  }
 },
 "nbformat": 4,
 "nbformat_minor": 5
}
